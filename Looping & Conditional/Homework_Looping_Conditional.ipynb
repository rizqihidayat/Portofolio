{
  "nbformat": 4,
  "nbformat_minor": 0,
  "metadata": {
    "colab": {
      "name": "Homework Looping-Conditional.ipynb",
      "provenance": []
    },
    "kernelspec": {
      "name": "python3",
      "display_name": "Python 3"
    },
    "language_info": {
      "name": "python"
    }
  },
  "cells": [
    {
      "cell_type": "code",
      "execution_count": 6,
      "metadata": {
        "colab": {
          "base_uri": "https://localhost:8080/"
        },
        "id": "aRzgrJQ2AVB3",
        "outputId": "acfe1b40-7774-43bc-c219-30bd7b0e4464"
      },
      "outputs": [
        {
          "output_type": "stream",
          "name": "stdout",
          "text": [
            " Total positive number in the list :  7\n",
            " Total negative number in the list :  3\n"
          ]
        }
      ],
      "source": [
        "#list number\n",
        "list1 =[1, 3, 4, -5, 0 , -6, 7 , -8, 9 , 11]\n",
        "pos_count, neg_count = 0,0\n",
        "\n",
        "for num in list1:\n",
        "  if num >= 0:\n",
        "    pos_count += 1\n",
        "  else:\n",
        "    neg_count += 1\n",
        "print(\" Total positive number in the list : \",pos_count)\n",
        "print(\" Total negative number in the list : \",neg_count)\n"
      ]
    },
    {
      "cell_type": "code",
      "source": [
        ""
      ],
      "metadata": {
        "id": "daxZce_8AXA4"
      },
      "execution_count": null,
      "outputs": []
    }
  ]
}