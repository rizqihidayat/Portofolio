{
  "nbformat": 4,
  "nbformat_minor": 0,
  "metadata": {
    "colab": {
      "name": "Homework Session 12.ipynb",
      "provenance": []
    },
    "kernelspec": {
      "name": "python3",
      "display_name": "Python 3"
    },
    "language_info": {
      "name": "python"
    }
  },
  "cells": [
    {
      "cell_type": "code",
      "source": [
        "import pandas as pd"
      ],
      "metadata": {
        "id": "v1h5lSptgWwe"
      },
      "execution_count": 1,
      "outputs": []
    },
    {
      "cell_type": "code",
      "execution_count": null,
      "metadata": {
        "id": "XtXoNvQoe65Q"
      },
      "outputs": [],
      "source": [
        "df = pd.concat(map(pd.read_csv, ['202001.csv', '202002.csv','202003.csv','202004.csv','202005.csv','202006.csv','202007.csv','202008.csv','202009.csv','202010.csv','202011.csv','202012.csv']))"
      ]
    },
    {
      "cell_type": "code",
      "source": [
        "print(df)"
      ],
      "metadata": {
        "colab": {
          "base_uri": "https://localhost:8080/"
        },
        "id": "z6iRP-iXgeza",
        "outputId": "d28e1350-4a00-4fdd-bb7e-587a31193b9e"
      },
      "execution_count": null,
      "outputs": [
        {
          "output_type": "stream",
          "name": "stdout",
          "text": [
            "           date  daily_confirmed_cases  ...  geo_id pop_data_2019\n",
            "0    2020-01-25                    441  ...      CN    1433783692\n",
            "1    2020-01-26                    665  ...      CN    1433783692\n",
            "2    2020-01-27                    787  ...      CN    1433783692\n",
            "3    2020-01-28                   1753  ...      CN    1433783692\n",
            "4    2020-01-29                   1466  ...      CN    1433783692\n",
            "..          ...                    ...  ...     ...           ...\n",
            "135  2020-12-10                 220025  ...      US     329064917\n",
            "136  2020-12-11                 224680  ...      US     329064917\n",
            "137  2020-12-12                 234633  ...      US     329064917\n",
            "138  2020-12-13                 216017  ...      US     329064917\n",
            "139  2020-12-14                 189723  ...      US     329064917\n",
            "\n",
            "[3308 rows x 6 columns]\n"
          ]
        }
      ]
    },
    {
      "cell_type": "code",
      "source": [
        "df['countries_and_territories'].unique()"
      ],
      "metadata": {
        "colab": {
          "base_uri": "https://localhost:8080/"
        },
        "id": "p2JBdDxcgu3U",
        "outputId": "0341e441-f8db-4f06-dedc-516d7857f645"
      },
      "execution_count": null,
      "outputs": [
        {
          "output_type": "execute_result",
          "data": {
            "text/plain": [
              "array(['China', 'Cambodia', 'Malaysia', 'Thailand', 'Indonesia',\n",
              "       'Singapore', 'Philippines', 'United_States_of_America', 'Laos',\n",
              "       'Brunei_Darussalam'], dtype=object)"
            ]
          },
          "metadata": {},
          "execution_count": 5
        }
      ]
    },
    {
      "cell_type": "code",
      "source": [
        "df[df[\"countries_and_territories\"].isin([\"Indonesia\"])]"
      ],
      "metadata": {
        "colab": {
          "base_uri": "https://localhost:8080/",
          "height": 424
        },
        "id": "SlZ3kVleg7ba",
        "outputId": "be299ac0-3a6c-4e5a-8bb0-1b573793895c"
      },
      "execution_count": null,
      "outputs": [
        {
          "output_type": "execute_result",
          "data": {
            "text/html": [
              "\n",
              "  <div id=\"df-2179c2e9-ebbc-44fe-a05d-cb3cc98caba2\">\n",
              "    <div class=\"colab-df-container\">\n",
              "      <div>\n",
              "<style scoped>\n",
              "    .dataframe tbody tr th:only-of-type {\n",
              "        vertical-align: middle;\n",
              "    }\n",
              "\n",
              "    .dataframe tbody tr th {\n",
              "        vertical-align: top;\n",
              "    }\n",
              "\n",
              "    .dataframe thead th {\n",
              "        text-align: right;\n",
              "    }\n",
              "</style>\n",
              "<table border=\"1\" class=\"dataframe\">\n",
              "  <thead>\n",
              "    <tr style=\"text-align: right;\">\n",
              "      <th></th>\n",
              "      <th>date</th>\n",
              "      <th>daily_confirmed_cases</th>\n",
              "      <th>daily_deaths</th>\n",
              "      <th>countries_and_territories</th>\n",
              "      <th>geo_id</th>\n",
              "      <th>pop_data_2019</th>\n",
              "    </tr>\n",
              "  </thead>\n",
              "  <tbody>\n",
              "    <tr>\n",
              "      <th>124</th>\n",
              "      <td>2020-01-01</td>\n",
              "      <td>0</td>\n",
              "      <td>0</td>\n",
              "      <td>Indonesia</td>\n",
              "      <td>ID</td>\n",
              "      <td>270625567</td>\n",
              "    </tr>\n",
              "    <tr>\n",
              "      <th>125</th>\n",
              "      <td>2020-01-02</td>\n",
              "      <td>0</td>\n",
              "      <td>0</td>\n",
              "      <td>Indonesia</td>\n",
              "      <td>ID</td>\n",
              "      <td>270625567</td>\n",
              "    </tr>\n",
              "    <tr>\n",
              "      <th>126</th>\n",
              "      <td>2020-01-03</td>\n",
              "      <td>0</td>\n",
              "      <td>0</td>\n",
              "      <td>Indonesia</td>\n",
              "      <td>ID</td>\n",
              "      <td>270625567</td>\n",
              "    </tr>\n",
              "    <tr>\n",
              "      <th>127</th>\n",
              "      <td>2020-01-04</td>\n",
              "      <td>0</td>\n",
              "      <td>0</td>\n",
              "      <td>Indonesia</td>\n",
              "      <td>ID</td>\n",
              "      <td>270625567</td>\n",
              "    </tr>\n",
              "    <tr>\n",
              "      <th>128</th>\n",
              "      <td>2020-01-05</td>\n",
              "      <td>0</td>\n",
              "      <td>0</td>\n",
              "      <td>Indonesia</td>\n",
              "      <td>ID</td>\n",
              "      <td>270625567</td>\n",
              "    </tr>\n",
              "    <tr>\n",
              "      <th>...</th>\n",
              "      <td>...</td>\n",
              "      <td>...</td>\n",
              "      <td>...</td>\n",
              "      <td>...</td>\n",
              "      <td>...</td>\n",
              "      <td>...</td>\n",
              "    </tr>\n",
              "    <tr>\n",
              "      <th>79</th>\n",
              "      <td>2020-12-10</td>\n",
              "      <td>6058</td>\n",
              "      <td>171</td>\n",
              "      <td>Indonesia</td>\n",
              "      <td>ID</td>\n",
              "      <td>270625567</td>\n",
              "    </tr>\n",
              "    <tr>\n",
              "      <th>80</th>\n",
              "      <td>2020-12-11</td>\n",
              "      <td>6033</td>\n",
              "      <td>165</td>\n",
              "      <td>Indonesia</td>\n",
              "      <td>ID</td>\n",
              "      <td>270625567</td>\n",
              "    </tr>\n",
              "    <tr>\n",
              "      <th>81</th>\n",
              "      <td>2020-12-12</td>\n",
              "      <td>6310</td>\n",
              "      <td>175</td>\n",
              "      <td>Indonesia</td>\n",
              "      <td>ID</td>\n",
              "      <td>270625567</td>\n",
              "    </tr>\n",
              "    <tr>\n",
              "      <th>82</th>\n",
              "      <td>2020-12-13</td>\n",
              "      <td>6388</td>\n",
              "      <td>142</td>\n",
              "      <td>Indonesia</td>\n",
              "      <td>ID</td>\n",
              "      <td>270625567</td>\n",
              "    </tr>\n",
              "    <tr>\n",
              "      <th>83</th>\n",
              "      <td>2020-12-14</td>\n",
              "      <td>6189</td>\n",
              "      <td>166</td>\n",
              "      <td>Indonesia</td>\n",
              "      <td>ID</td>\n",
              "      <td>270625567</td>\n",
              "    </tr>\n",
              "  </tbody>\n",
              "</table>\n",
              "<p>342 rows × 6 columns</p>\n",
              "</div>\n",
              "      <button class=\"colab-df-convert\" onclick=\"convertToInteractive('df-2179c2e9-ebbc-44fe-a05d-cb3cc98caba2')\"\n",
              "              title=\"Convert this dataframe to an interactive table.\"\n",
              "              style=\"display:none;\">\n",
              "        \n",
              "  <svg xmlns=\"http://www.w3.org/2000/svg\" height=\"24px\"viewBox=\"0 0 24 24\"\n",
              "       width=\"24px\">\n",
              "    <path d=\"M0 0h24v24H0V0z\" fill=\"none\"/>\n",
              "    <path d=\"M18.56 5.44l.94 2.06.94-2.06 2.06-.94-2.06-.94-.94-2.06-.94 2.06-2.06.94zm-11 1L8.5 8.5l.94-2.06 2.06-.94-2.06-.94L8.5 2.5l-.94 2.06-2.06.94zm10 10l.94 2.06.94-2.06 2.06-.94-2.06-.94-.94-2.06-.94 2.06-2.06.94z\"/><path d=\"M17.41 7.96l-1.37-1.37c-.4-.4-.92-.59-1.43-.59-.52 0-1.04.2-1.43.59L10.3 9.45l-7.72 7.72c-.78.78-.78 2.05 0 2.83L4 21.41c.39.39.9.59 1.41.59.51 0 1.02-.2 1.41-.59l7.78-7.78 2.81-2.81c.8-.78.8-2.07 0-2.86zM5.41 20L4 18.59l7.72-7.72 1.47 1.35L5.41 20z\"/>\n",
              "  </svg>\n",
              "      </button>\n",
              "      \n",
              "  <style>\n",
              "    .colab-df-container {\n",
              "      display:flex;\n",
              "      flex-wrap:wrap;\n",
              "      gap: 12px;\n",
              "    }\n",
              "\n",
              "    .colab-df-convert {\n",
              "      background-color: #E8F0FE;\n",
              "      border: none;\n",
              "      border-radius: 50%;\n",
              "      cursor: pointer;\n",
              "      display: none;\n",
              "      fill: #1967D2;\n",
              "      height: 32px;\n",
              "      padding: 0 0 0 0;\n",
              "      width: 32px;\n",
              "    }\n",
              "\n",
              "    .colab-df-convert:hover {\n",
              "      background-color: #E2EBFA;\n",
              "      box-shadow: 0px 1px 2px rgba(60, 64, 67, 0.3), 0px 1px 3px 1px rgba(60, 64, 67, 0.15);\n",
              "      fill: #174EA6;\n",
              "    }\n",
              "\n",
              "    [theme=dark] .colab-df-convert {\n",
              "      background-color: #3B4455;\n",
              "      fill: #D2E3FC;\n",
              "    }\n",
              "\n",
              "    [theme=dark] .colab-df-convert:hover {\n",
              "      background-color: #434B5C;\n",
              "      box-shadow: 0px 1px 3px 1px rgba(0, 0, 0, 0.15);\n",
              "      filter: drop-shadow(0px 1px 2px rgba(0, 0, 0, 0.3));\n",
              "      fill: #FFFFFF;\n",
              "    }\n",
              "  </style>\n",
              "\n",
              "      <script>\n",
              "        const buttonEl =\n",
              "          document.querySelector('#df-2179c2e9-ebbc-44fe-a05d-cb3cc98caba2 button.colab-df-convert');\n",
              "        buttonEl.style.display =\n",
              "          google.colab.kernel.accessAllowed ? 'block' : 'none';\n",
              "\n",
              "        async function convertToInteractive(key) {\n",
              "          const element = document.querySelector('#df-2179c2e9-ebbc-44fe-a05d-cb3cc98caba2');\n",
              "          const dataTable =\n",
              "            await google.colab.kernel.invokeFunction('convertToInteractive',\n",
              "                                                     [key], {});\n",
              "          if (!dataTable) return;\n",
              "\n",
              "          const docLinkHtml = 'Like what you see? Visit the ' +\n",
              "            '<a target=\"_blank\" href=https://colab.research.google.com/notebooks/data_table.ipynb>data table notebook</a>'\n",
              "            + ' to learn more about interactive tables.';\n",
              "          element.innerHTML = '';\n",
              "          dataTable['output_type'] = 'display_data';\n",
              "          await google.colab.output.renderOutput(dataTable, element);\n",
              "          const docLink = document.createElement('div');\n",
              "          docLink.innerHTML = docLinkHtml;\n",
              "          element.appendChild(docLink);\n",
              "        }\n",
              "      </script>\n",
              "    </div>\n",
              "  </div>\n",
              "  "
            ],
            "text/plain": [
              "           date  daily_confirmed_cases  ...  geo_id pop_data_2019\n",
              "124  2020-01-01                      0  ...      ID     270625567\n",
              "125  2020-01-02                      0  ...      ID     270625567\n",
              "126  2020-01-03                      0  ...      ID     270625567\n",
              "127  2020-01-04                      0  ...      ID     270625567\n",
              "128  2020-01-05                      0  ...      ID     270625567\n",
              "..          ...                    ...  ...     ...           ...\n",
              "79   2020-12-10                   6058  ...      ID     270625567\n",
              "80   2020-12-11                   6033  ...      ID     270625567\n",
              "81   2020-12-12                   6310  ...      ID     270625567\n",
              "82   2020-12-13                   6388  ...      ID     270625567\n",
              "83   2020-12-14                   6189  ...      ID     270625567\n",
              "\n",
              "[342 rows x 6 columns]"
            ]
          },
          "metadata": {},
          "execution_count": 6
        }
      ]
    },
    {
      "cell_type": "code",
      "source": [
        "COVID19_FILTER = df[df[\"countries_and_territories\"].isin([\"Indonesia\"])]"
      ],
      "metadata": {
        "id": "sKv6kDBbhDkH"
      },
      "execution_count": null,
      "outputs": []
    },
    {
      "cell_type": "code",
      "source": [
        "print(COVID19_FILTER)"
      ],
      "metadata": {
        "colab": {
          "base_uri": "https://localhost:8080/"
        },
        "id": "5yCKEtDbhP_f",
        "outputId": "4fffe402-f75f-4519-dccc-e5a7cb02f599"
      },
      "execution_count": null,
      "outputs": [
        {
          "output_type": "stream",
          "name": "stdout",
          "text": [
            "           date  daily_confirmed_cases  ...  geo_id pop_data_2019\n",
            "124  2020-01-01                      0  ...      ID     270625567\n",
            "125  2020-01-02                      0  ...      ID     270625567\n",
            "126  2020-01-03                      0  ...      ID     270625567\n",
            "127  2020-01-04                      0  ...      ID     270625567\n",
            "128  2020-01-05                      0  ...      ID     270625567\n",
            "..          ...                    ...  ...     ...           ...\n",
            "79   2020-12-10                   6058  ...      ID     270625567\n",
            "80   2020-12-11                   6033  ...      ID     270625567\n",
            "81   2020-12-12                   6310  ...      ID     270625567\n",
            "82   2020-12-13                   6388  ...      ID     270625567\n",
            "83   2020-12-14                   6189  ...      ID     270625567\n",
            "\n",
            "[342 rows x 6 columns]\n"
          ]
        }
      ]
    },
    {
      "cell_type": "code",
      "source": [
        "COVID19_FILTER.to_csv(\"rizqi_covid_indonesia_2020.csv\")"
      ],
      "metadata": {
        "id": "RcvodaTQhRxX"
      },
      "execution_count": null,
      "outputs": []
    },
    {
      "cell_type": "code",
      "source": [
        ""
      ],
      "metadata": {
        "id": "9NGKN547hf2J"
      },
      "execution_count": null,
      "outputs": []
    }
  ]
}