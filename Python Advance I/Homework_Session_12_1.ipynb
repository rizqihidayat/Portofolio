{
  "nbformat": 4,
  "nbformat_minor": 0,
  "metadata": {
    "colab": {
      "name": "Homework Session 12-1.ipynb",
      "provenance": []
    },
    "kernelspec": {
      "name": "python3",
      "display_name": "Python 3"
    },
    "language_info": {
      "name": "python"
    }
  },
  "cells": [
    {
      "cell_type": "code",
      "source": [
        "from google.colab import drive"
      ],
      "metadata": {
        "id": "fSWJ9admMvb9"
      },
      "execution_count": 2,
      "outputs": []
    },
    {
      "cell_type": "code",
      "source": [
        "drive.mount('/content/drive')"
      ],
      "metadata": {
        "colab": {
          "base_uri": "https://localhost:8080/"
        },
        "id": "XdzgzypiM0nP",
        "outputId": "62ced17a-e9d2-4e72-b701-74d3e256fee7"
      },
      "execution_count": 3,
      "outputs": [
        {
          "output_type": "stream",
          "name": "stdout",
          "text": [
            "Mounted at /content/drive\n"
          ]
        }
      ]
    },
    {
      "cell_type": "code",
      "execution_count": 1,
      "metadata": {
        "id": "Va53au_ZKA9A"
      },
      "outputs": [],
      "source": [
        "import requests\n",
        "\n",
        "def get_content_len(url):\n",
        "  response = requests.get(url)\n",
        "  content = response.text\n",
        "  print(url,len(content))"
      ]
    },
    {
      "cell_type": "code",
      "source": [
        "urls = ['https://drive.google.com/drive/folders/1vsAl7UqhDmiQHGkEXMGv2veUL5qplwiy?usp=sharing']"
      ],
      "metadata": {
        "id": "spfl4NOlLWrq"
      },
      "execution_count": 4,
      "outputs": []
    },
    {
      "cell_type": "code",
      "source": [
        "for url in urls:\n",
        "  get_content_len(url)"
      ],
      "metadata": {
        "colab": {
          "base_uri": "https://localhost:8080/"
        },
        "id": "BhA_ATqiNE-y",
        "outputId": "021d9d52-cb90-4443-c05e-0f4ed184cd5e"
      },
      "execution_count": 5,
      "outputs": [
        {
          "output_type": "stream",
          "name": "stdout",
          "text": [
            "https://drive.google.com/drive/folders/1vsAl7UqhDmiQHGkEXMGv2veUL5qplwiy?usp=sharing 94589\n"
          ]
        }
      ]
    },
    {
      "cell_type": "code",
      "source": [
        "import multiprocessing\n",
        "\n",
        "start = time.time()\n",
        "process = []\n",
        "\n",
        "for url in urls:\n",
        "  p = multiprocessing.Process(target=get_content_len,args=[url])\n",
        "  process.append(p)\n",
        "\n",
        "for p in process:\n",
        "  p.start()\n",
        "\n",
        "for p in process:\n",
        "  p.join()\n",
        "\n",
        "end = time.time()\n",
        "print(f'Process Multiprocessing selesai pada {end-start} detik')"
      ],
      "metadata": {
        "colab": {
          "base_uri": "https://localhost:8080/"
        },
        "id": "-SCbR1uLNJ-G",
        "outputId": "d98a9f5e-e965-4040-ec52-db06772bda67"
      },
      "execution_count": 8,
      "outputs": [
        {
          "output_type": "stream",
          "name": "stdout",
          "text": [
            "https://drive.google.com/drive/folders/1vsAl7UqhDmiQHGkEXMGv2veUL5qplwiy?usp=sharing 94523\n",
            "Process Multiprocessing selesai pada 0.2833285331726074 detik\n"
          ]
        }
      ]
    },
    {
      "cell_type": "code",
      "source": [
        "import time"
      ],
      "metadata": {
        "id": "TbAQTZatN2ud"
      },
      "execution_count": 2,
      "outputs": []
    },
    {
      "cell_type": "code",
      "source": [
        "import pandas as pd\n",
        "import numpy as np"
      ],
      "metadata": {
        "id": "HZaSqVcCN8i8"
      },
      "execution_count": 3,
      "outputs": []
    },
    {
      "cell_type": "code",
      "source": [
        "df = pd.read_csv(\"rizqi_covid_indonesia_2020.csv\")"
      ],
      "metadata": {
        "id": "4WoIjRhJSSI_"
      },
      "execution_count": 5,
      "outputs": []
    },
    {
      "cell_type": "code",
      "source": [
        "df.dtypes"
      ],
      "metadata": {
        "colab": {
          "base_uri": "https://localhost:8080/"
        },
        "id": "iTiqu8BlSiY6",
        "outputId": "ca583716-0775-480b-b02c-60d6a872b1a1"
      },
      "execution_count": 6,
      "outputs": [
        {
          "output_type": "execute_result",
          "data": {
            "text/plain": [
              "Unnamed: 0                    int64\n",
              "date                         object\n",
              "daily_confirmed_cases         int64\n",
              "daily_deaths                  int64\n",
              "countries_and_territories    object\n",
              "geo_id                       object\n",
              "pop_data_2019                 int64\n",
              "dtype: object"
            ]
          },
          "metadata": {},
          "execution_count": 6
        }
      ]
    },
    {
      "cell_type": "code",
      "source": [
        "df[\"date\"] = df[\"date\"].apply(lambda x: np.datetime64(x))"
      ],
      "metadata": {
        "id": "grTJeQvQSrU-"
      },
      "execution_count": 7,
      "outputs": []
    },
    {
      "cell_type": "code",
      "source": [
        "df[\"month & year\"] = df[\"date\"].apply(lambda x: x.to_period('M'))"
      ],
      "metadata": {
        "id": "Xpbu0PjIS0Zw"
      },
      "execution_count": 8,
      "outputs": []
    },
    {
      "cell_type": "code",
      "source": [
        "df"
      ],
      "metadata": {
        "colab": {
          "base_uri": "https://localhost:8080/",
          "height": 659
        },
        "id": "2zo1toNyTT3L",
        "outputId": "d246263a-825c-4bf8-d0b1-50b0fcc4c1d5"
      },
      "execution_count": 9,
      "outputs": [
        {
          "output_type": "execute_result",
          "data": {
            "text/html": [
              "\n",
              "  <div id=\"df-d538bc45-991b-4eb6-ad21-6eb5b42e1dff\">\n",
              "    <div class=\"colab-df-container\">\n",
              "      <div>\n",
              "<style scoped>\n",
              "    .dataframe tbody tr th:only-of-type {\n",
              "        vertical-align: middle;\n",
              "    }\n",
              "\n",
              "    .dataframe tbody tr th {\n",
              "        vertical-align: top;\n",
              "    }\n",
              "\n",
              "    .dataframe thead th {\n",
              "        text-align: right;\n",
              "    }\n",
              "</style>\n",
              "<table border=\"1\" class=\"dataframe\">\n",
              "  <thead>\n",
              "    <tr style=\"text-align: right;\">\n",
              "      <th></th>\n",
              "      <th>Unnamed: 0</th>\n",
              "      <th>date</th>\n",
              "      <th>daily_confirmed_cases</th>\n",
              "      <th>daily_deaths</th>\n",
              "      <th>countries_and_territories</th>\n",
              "      <th>geo_id</th>\n",
              "      <th>pop_data_2019</th>\n",
              "      <th>month &amp; year</th>\n",
              "    </tr>\n",
              "  </thead>\n",
              "  <tbody>\n",
              "    <tr>\n",
              "      <th>0</th>\n",
              "      <td>124</td>\n",
              "      <td>2020-01-01</td>\n",
              "      <td>0</td>\n",
              "      <td>0</td>\n",
              "      <td>Indonesia</td>\n",
              "      <td>ID</td>\n",
              "      <td>270625567</td>\n",
              "      <td>2020-01</td>\n",
              "    </tr>\n",
              "    <tr>\n",
              "      <th>1</th>\n",
              "      <td>125</td>\n",
              "      <td>2020-01-02</td>\n",
              "      <td>0</td>\n",
              "      <td>0</td>\n",
              "      <td>Indonesia</td>\n",
              "      <td>ID</td>\n",
              "      <td>270625567</td>\n",
              "      <td>2020-01</td>\n",
              "    </tr>\n",
              "    <tr>\n",
              "      <th>2</th>\n",
              "      <td>126</td>\n",
              "      <td>2020-01-03</td>\n",
              "      <td>0</td>\n",
              "      <td>0</td>\n",
              "      <td>Indonesia</td>\n",
              "      <td>ID</td>\n",
              "      <td>270625567</td>\n",
              "      <td>2020-01</td>\n",
              "    </tr>\n",
              "    <tr>\n",
              "      <th>3</th>\n",
              "      <td>127</td>\n",
              "      <td>2020-01-04</td>\n",
              "      <td>0</td>\n",
              "      <td>0</td>\n",
              "      <td>Indonesia</td>\n",
              "      <td>ID</td>\n",
              "      <td>270625567</td>\n",
              "      <td>2020-01</td>\n",
              "    </tr>\n",
              "    <tr>\n",
              "      <th>4</th>\n",
              "      <td>128</td>\n",
              "      <td>2020-01-05</td>\n",
              "      <td>0</td>\n",
              "      <td>0</td>\n",
              "      <td>Indonesia</td>\n",
              "      <td>ID</td>\n",
              "      <td>270625567</td>\n",
              "      <td>2020-01</td>\n",
              "    </tr>\n",
              "    <tr>\n",
              "      <th>...</th>\n",
              "      <td>...</td>\n",
              "      <td>...</td>\n",
              "      <td>...</td>\n",
              "      <td>...</td>\n",
              "      <td>...</td>\n",
              "      <td>...</td>\n",
              "      <td>...</td>\n",
              "      <td>...</td>\n",
              "    </tr>\n",
              "    <tr>\n",
              "      <th>337</th>\n",
              "      <td>79</td>\n",
              "      <td>2020-12-10</td>\n",
              "      <td>6058</td>\n",
              "      <td>171</td>\n",
              "      <td>Indonesia</td>\n",
              "      <td>ID</td>\n",
              "      <td>270625567</td>\n",
              "      <td>2020-12</td>\n",
              "    </tr>\n",
              "    <tr>\n",
              "      <th>338</th>\n",
              "      <td>80</td>\n",
              "      <td>2020-12-11</td>\n",
              "      <td>6033</td>\n",
              "      <td>165</td>\n",
              "      <td>Indonesia</td>\n",
              "      <td>ID</td>\n",
              "      <td>270625567</td>\n",
              "      <td>2020-12</td>\n",
              "    </tr>\n",
              "    <tr>\n",
              "      <th>339</th>\n",
              "      <td>81</td>\n",
              "      <td>2020-12-12</td>\n",
              "      <td>6310</td>\n",
              "      <td>175</td>\n",
              "      <td>Indonesia</td>\n",
              "      <td>ID</td>\n",
              "      <td>270625567</td>\n",
              "      <td>2020-12</td>\n",
              "    </tr>\n",
              "    <tr>\n",
              "      <th>340</th>\n",
              "      <td>82</td>\n",
              "      <td>2020-12-13</td>\n",
              "      <td>6388</td>\n",
              "      <td>142</td>\n",
              "      <td>Indonesia</td>\n",
              "      <td>ID</td>\n",
              "      <td>270625567</td>\n",
              "      <td>2020-12</td>\n",
              "    </tr>\n",
              "    <tr>\n",
              "      <th>341</th>\n",
              "      <td>83</td>\n",
              "      <td>2020-12-14</td>\n",
              "      <td>6189</td>\n",
              "      <td>166</td>\n",
              "      <td>Indonesia</td>\n",
              "      <td>ID</td>\n",
              "      <td>270625567</td>\n",
              "      <td>2020-12</td>\n",
              "    </tr>\n",
              "  </tbody>\n",
              "</table>\n",
              "<p>342 rows × 8 columns</p>\n",
              "</div>\n",
              "      <button class=\"colab-df-convert\" onclick=\"convertToInteractive('df-d538bc45-991b-4eb6-ad21-6eb5b42e1dff')\"\n",
              "              title=\"Convert this dataframe to an interactive table.\"\n",
              "              style=\"display:none;\">\n",
              "        \n",
              "  <svg xmlns=\"http://www.w3.org/2000/svg\" height=\"24px\"viewBox=\"0 0 24 24\"\n",
              "       width=\"24px\">\n",
              "    <path d=\"M0 0h24v24H0V0z\" fill=\"none\"/>\n",
              "    <path d=\"M18.56 5.44l.94 2.06.94-2.06 2.06-.94-2.06-.94-.94-2.06-.94 2.06-2.06.94zm-11 1L8.5 8.5l.94-2.06 2.06-.94-2.06-.94L8.5 2.5l-.94 2.06-2.06.94zm10 10l.94 2.06.94-2.06 2.06-.94-2.06-.94-.94-2.06-.94 2.06-2.06.94z\"/><path d=\"M17.41 7.96l-1.37-1.37c-.4-.4-.92-.59-1.43-.59-.52 0-1.04.2-1.43.59L10.3 9.45l-7.72 7.72c-.78.78-.78 2.05 0 2.83L4 21.41c.39.39.9.59 1.41.59.51 0 1.02-.2 1.41-.59l7.78-7.78 2.81-2.81c.8-.78.8-2.07 0-2.86zM5.41 20L4 18.59l7.72-7.72 1.47 1.35L5.41 20z\"/>\n",
              "  </svg>\n",
              "      </button>\n",
              "      \n",
              "  <style>\n",
              "    .colab-df-container {\n",
              "      display:flex;\n",
              "      flex-wrap:wrap;\n",
              "      gap: 12px;\n",
              "    }\n",
              "\n",
              "    .colab-df-convert {\n",
              "      background-color: #E8F0FE;\n",
              "      border: none;\n",
              "      border-radius: 50%;\n",
              "      cursor: pointer;\n",
              "      display: none;\n",
              "      fill: #1967D2;\n",
              "      height: 32px;\n",
              "      padding: 0 0 0 0;\n",
              "      width: 32px;\n",
              "    }\n",
              "\n",
              "    .colab-df-convert:hover {\n",
              "      background-color: #E2EBFA;\n",
              "      box-shadow: 0px 1px 2px rgba(60, 64, 67, 0.3), 0px 1px 3px 1px rgba(60, 64, 67, 0.15);\n",
              "      fill: #174EA6;\n",
              "    }\n",
              "\n",
              "    [theme=dark] .colab-df-convert {\n",
              "      background-color: #3B4455;\n",
              "      fill: #D2E3FC;\n",
              "    }\n",
              "\n",
              "    [theme=dark] .colab-df-convert:hover {\n",
              "      background-color: #434B5C;\n",
              "      box-shadow: 0px 1px 3px 1px rgba(0, 0, 0, 0.15);\n",
              "      filter: drop-shadow(0px 1px 2px rgba(0, 0, 0, 0.3));\n",
              "      fill: #FFFFFF;\n",
              "    }\n",
              "  </style>\n",
              "\n",
              "      <script>\n",
              "        const buttonEl =\n",
              "          document.querySelector('#df-d538bc45-991b-4eb6-ad21-6eb5b42e1dff button.colab-df-convert');\n",
              "        buttonEl.style.display =\n",
              "          google.colab.kernel.accessAllowed ? 'block' : 'none';\n",
              "\n",
              "        async function convertToInteractive(key) {\n",
              "          const element = document.querySelector('#df-d538bc45-991b-4eb6-ad21-6eb5b42e1dff');\n",
              "          const dataTable =\n",
              "            await google.colab.kernel.invokeFunction('convertToInteractive',\n",
              "                                                     [key], {});\n",
              "          if (!dataTable) return;\n",
              "\n",
              "          const docLinkHtml = 'Like what you see? Visit the ' +\n",
              "            '<a target=\"_blank\" href=https://colab.research.google.com/notebooks/data_table.ipynb>data table notebook</a>'\n",
              "            + ' to learn more about interactive tables.';\n",
              "          element.innerHTML = '';\n",
              "          dataTable['output_type'] = 'display_data';\n",
              "          await google.colab.output.renderOutput(dataTable, element);\n",
              "          const docLink = document.createElement('div');\n",
              "          docLink.innerHTML = docLinkHtml;\n",
              "          element.appendChild(docLink);\n",
              "        }\n",
              "      </script>\n",
              "    </div>\n",
              "  </div>\n",
              "  "
            ],
            "text/plain": [
              "     Unnamed: 0       date  ...  pop_data_2019  month & year\n",
              "0           124 2020-01-01  ...      270625567       2020-01\n",
              "1           125 2020-01-02  ...      270625567       2020-01\n",
              "2           126 2020-01-03  ...      270625567       2020-01\n",
              "3           127 2020-01-04  ...      270625567       2020-01\n",
              "4           128 2020-01-05  ...      270625567       2020-01\n",
              "..          ...        ...  ...            ...           ...\n",
              "337          79 2020-12-10  ...      270625567       2020-12\n",
              "338          80 2020-12-11  ...      270625567       2020-12\n",
              "339          81 2020-12-12  ...      270625567       2020-12\n",
              "340          82 2020-12-13  ...      270625567       2020-12\n",
              "341          83 2020-12-14  ...      270625567       2020-12\n",
              "\n",
              "[342 rows x 8 columns]"
            ]
          },
          "metadata": {},
          "execution_count": 9
        }
      ]
    },
    {
      "cell_type": "code",
      "source": [
        "pv = pd.pivot_table(df, index=\"month & year\", values=[\"daily_confirmed_cases\", \"daily_deaths\"], aggfunc=np.sum)"
      ],
      "metadata": {
        "id": "6KT0_Ju2TU1n"
      },
      "execution_count": 10,
      "outputs": []
    },
    {
      "cell_type": "code",
      "source": [
        "pv"
      ],
      "metadata": {
        "colab": {
          "base_uri": "https://localhost:8080/",
          "height": 457
        },
        "id": "t96Jsfz4Tk4o",
        "outputId": "36d93ef0-0ecc-43c7-c4a7-280d4d148e4f"
      },
      "execution_count": 11,
      "outputs": [
        {
          "output_type": "execute_result",
          "data": {
            "text/html": [
              "\n",
              "  <div id=\"df-f796959c-ac27-4f8e-936e-5b612eab9c26\">\n",
              "    <div class=\"colab-df-container\">\n",
              "      <div>\n",
              "<style scoped>\n",
              "    .dataframe tbody tr th:only-of-type {\n",
              "        vertical-align: middle;\n",
              "    }\n",
              "\n",
              "    .dataframe tbody tr th {\n",
              "        vertical-align: top;\n",
              "    }\n",
              "\n",
              "    .dataframe thead th {\n",
              "        text-align: right;\n",
              "    }\n",
              "</style>\n",
              "<table border=\"1\" class=\"dataframe\">\n",
              "  <thead>\n",
              "    <tr style=\"text-align: right;\">\n",
              "      <th></th>\n",
              "      <th>daily_confirmed_cases</th>\n",
              "      <th>daily_deaths</th>\n",
              "    </tr>\n",
              "    <tr>\n",
              "      <th>month &amp; year</th>\n",
              "      <th></th>\n",
              "      <th></th>\n",
              "    </tr>\n",
              "  </thead>\n",
              "  <tbody>\n",
              "    <tr>\n",
              "      <th>2020-01</th>\n",
              "      <td>0</td>\n",
              "      <td>0</td>\n",
              "    </tr>\n",
              "    <tr>\n",
              "      <th>2020-02</th>\n",
              "      <td>0</td>\n",
              "      <td>0</td>\n",
              "    </tr>\n",
              "    <tr>\n",
              "      <th>2020-03</th>\n",
              "      <td>1414</td>\n",
              "      <td>122</td>\n",
              "    </tr>\n",
              "    <tr>\n",
              "      <th>2020-04</th>\n",
              "      <td>8357</td>\n",
              "      <td>662</td>\n",
              "    </tr>\n",
              "    <tr>\n",
              "      <th>2020-05</th>\n",
              "      <td>16002</td>\n",
              "      <td>789</td>\n",
              "    </tr>\n",
              "    <tr>\n",
              "      <th>2020-06</th>\n",
              "      <td>29319</td>\n",
              "      <td>1232</td>\n",
              "    </tr>\n",
              "    <tr>\n",
              "      <th>2020-07</th>\n",
              "      <td>51244</td>\n",
              "      <td>2253</td>\n",
              "    </tr>\n",
              "    <tr>\n",
              "      <th>2020-08</th>\n",
              "      <td>65717</td>\n",
              "      <td>2285</td>\n",
              "    </tr>\n",
              "    <tr>\n",
              "      <th>2020-09</th>\n",
              "      <td>110671</td>\n",
              "      <td>3258</td>\n",
              "    </tr>\n",
              "    <tr>\n",
              "      <th>2020-10</th>\n",
              "      <td>124221</td>\n",
              "      <td>3181</td>\n",
              "    </tr>\n",
              "    <tr>\n",
              "      <th>2020-11</th>\n",
              "      <td>127321</td>\n",
              "      <td>3033</td>\n",
              "    </tr>\n",
              "    <tr>\n",
              "      <th>2020-12</th>\n",
              "      <td>83554</td>\n",
              "      <td>2004</td>\n",
              "    </tr>\n",
              "  </tbody>\n",
              "</table>\n",
              "</div>\n",
              "      <button class=\"colab-df-convert\" onclick=\"convertToInteractive('df-f796959c-ac27-4f8e-936e-5b612eab9c26')\"\n",
              "              title=\"Convert this dataframe to an interactive table.\"\n",
              "              style=\"display:none;\">\n",
              "        \n",
              "  <svg xmlns=\"http://www.w3.org/2000/svg\" height=\"24px\"viewBox=\"0 0 24 24\"\n",
              "       width=\"24px\">\n",
              "    <path d=\"M0 0h24v24H0V0z\" fill=\"none\"/>\n",
              "    <path d=\"M18.56 5.44l.94 2.06.94-2.06 2.06-.94-2.06-.94-.94-2.06-.94 2.06-2.06.94zm-11 1L8.5 8.5l.94-2.06 2.06-.94-2.06-.94L8.5 2.5l-.94 2.06-2.06.94zm10 10l.94 2.06.94-2.06 2.06-.94-2.06-.94-.94-2.06-.94 2.06-2.06.94z\"/><path d=\"M17.41 7.96l-1.37-1.37c-.4-.4-.92-.59-1.43-.59-.52 0-1.04.2-1.43.59L10.3 9.45l-7.72 7.72c-.78.78-.78 2.05 0 2.83L4 21.41c.39.39.9.59 1.41.59.51 0 1.02-.2 1.41-.59l7.78-7.78 2.81-2.81c.8-.78.8-2.07 0-2.86zM5.41 20L4 18.59l7.72-7.72 1.47 1.35L5.41 20z\"/>\n",
              "  </svg>\n",
              "      </button>\n",
              "      \n",
              "  <style>\n",
              "    .colab-df-container {\n",
              "      display:flex;\n",
              "      flex-wrap:wrap;\n",
              "      gap: 12px;\n",
              "    }\n",
              "\n",
              "    .colab-df-convert {\n",
              "      background-color: #E8F0FE;\n",
              "      border: none;\n",
              "      border-radius: 50%;\n",
              "      cursor: pointer;\n",
              "      display: none;\n",
              "      fill: #1967D2;\n",
              "      height: 32px;\n",
              "      padding: 0 0 0 0;\n",
              "      width: 32px;\n",
              "    }\n",
              "\n",
              "    .colab-df-convert:hover {\n",
              "      background-color: #E2EBFA;\n",
              "      box-shadow: 0px 1px 2px rgba(60, 64, 67, 0.3), 0px 1px 3px 1px rgba(60, 64, 67, 0.15);\n",
              "      fill: #174EA6;\n",
              "    }\n",
              "\n",
              "    [theme=dark] .colab-df-convert {\n",
              "      background-color: #3B4455;\n",
              "      fill: #D2E3FC;\n",
              "    }\n",
              "\n",
              "    [theme=dark] .colab-df-convert:hover {\n",
              "      background-color: #434B5C;\n",
              "      box-shadow: 0px 1px 3px 1px rgba(0, 0, 0, 0.15);\n",
              "      filter: drop-shadow(0px 1px 2px rgba(0, 0, 0, 0.3));\n",
              "      fill: #FFFFFF;\n",
              "    }\n",
              "  </style>\n",
              "\n",
              "      <script>\n",
              "        const buttonEl =\n",
              "          document.querySelector('#df-f796959c-ac27-4f8e-936e-5b612eab9c26 button.colab-df-convert');\n",
              "        buttonEl.style.display =\n",
              "          google.colab.kernel.accessAllowed ? 'block' : 'none';\n",
              "\n",
              "        async function convertToInteractive(key) {\n",
              "          const element = document.querySelector('#df-f796959c-ac27-4f8e-936e-5b612eab9c26');\n",
              "          const dataTable =\n",
              "            await google.colab.kernel.invokeFunction('convertToInteractive',\n",
              "                                                     [key], {});\n",
              "          if (!dataTable) return;\n",
              "\n",
              "          const docLinkHtml = 'Like what you see? Visit the ' +\n",
              "            '<a target=\"_blank\" href=https://colab.research.google.com/notebooks/data_table.ipynb>data table notebook</a>'\n",
              "            + ' to learn more about interactive tables.';\n",
              "          element.innerHTML = '';\n",
              "          dataTable['output_type'] = 'display_data';\n",
              "          await google.colab.output.renderOutput(dataTable, element);\n",
              "          const docLink = document.createElement('div');\n",
              "          docLink.innerHTML = docLinkHtml;\n",
              "          element.appendChild(docLink);\n",
              "        }\n",
              "      </script>\n",
              "    </div>\n",
              "  </div>\n",
              "  "
            ],
            "text/plain": [
              "              daily_confirmed_cases  daily_deaths\n",
              "month & year                                     \n",
              "2020-01                           0             0\n",
              "2020-02                           0             0\n",
              "2020-03                        1414           122\n",
              "2020-04                        8357           662\n",
              "2020-05                       16002           789\n",
              "2020-06                       29319          1232\n",
              "2020-07                       51244          2253\n",
              "2020-08                       65717          2285\n",
              "2020-09                      110671          3258\n",
              "2020-10                      124221          3181\n",
              "2020-11                      127321          3033\n",
              "2020-12                       83554          2004"
            ]
          },
          "metadata": {},
          "execution_count": 11
        }
      ]
    },
    {
      "cell_type": "code",
      "source": [
        "daily_cases = df.groupby('month & year')['daily_confirmed_cases'].sum()"
      ],
      "metadata": {
        "id": "_AbWzW7sVf5u"
      },
      "execution_count": 26,
      "outputs": []
    },
    {
      "cell_type": "code",
      "source": [
        "daily_deaths1 = df.groupby('month & year')['daily_deaths'].sum()"
      ],
      "metadata": {
        "id": "VWkKhlnWXXVa"
      },
      "execution_count": 18,
      "outputs": []
    },
    {
      "cell_type": "code",
      "source": [
        "Total_cases = df['daily_confirmed_cases'].sum()"
      ],
      "metadata": {
        "id": "AdFWD2O7L97n"
      },
      "execution_count": 27,
      "outputs": []
    },
    {
      "cell_type": "code",
      "source": [
        "print(Total_cases)"
      ],
      "metadata": {
        "colab": {
          "base_uri": "https://localhost:8080/"
        },
        "id": "a6gqJNmsNbpo",
        "outputId": "0ebd2a07-f3d9-461b-8971-660d7ef5e40d"
      },
      "execution_count": 28,
      "outputs": [
        {
          "output_type": "stream",
          "name": "stdout",
          "text": [
            "617820\n"
          ]
        }
      ]
    },
    {
      "cell_type": "code",
      "source": [
        "Total_deaths = df['daily_deaths'].sum()\n",
        "print(f'Total deaths : {Total_deaths} ')\n"
      ],
      "metadata": {
        "colab": {
          "base_uri": "https://localhost:8080/"
        },
        "id": "CX2gaz6wN3q2",
        "outputId": "012d710f-86bb-40c6-ba2c-3f39deed3e18"
      },
      "execution_count": 56,
      "outputs": [
        {
          "output_type": "stream",
          "name": "stdout",
          "text": [
            "Total deaths : 18819 \n"
          ]
        },
        {
          "output_type": "execute_result",
          "data": {
            "text/plain": [
              "18819"
            ]
          },
          "metadata": {},
          "execution_count": 56
        }
      ]
    },
    {
      "cell_type": "code",
      "source": [
        "print(pv)"
      ],
      "metadata": {
        "colab": {
          "base_uri": "https://localhost:8080/"
        },
        "id": "QDvFPJDFOMze",
        "outputId": "5b3c7af4-b7c3-4e16-e32f-d6f17b0eef54"
      },
      "execution_count": 32,
      "outputs": [
        {
          "output_type": "stream",
          "name": "stdout",
          "text": [
            "              daily_confirmed_cases  daily_deaths\n",
            "month & year                                     \n",
            "2020-01                           0             0\n",
            "2020-02                           0             0\n",
            "2020-03                        1414           122\n",
            "2020-04                        8357           662\n",
            "2020-05                       16002           789\n",
            "2020-06                       29319          1232\n",
            "2020-07                       51244          2253\n",
            "2020-08                       65717          2285\n",
            "2020-09                      110671          3258\n",
            "2020-10                      124221          3181\n",
            "2020-11                      127321          3033\n",
            "2020-12                       83554          2004\n"
          ]
        }
      ]
    },
    {
      "cell_type": "code",
      "source": [
        "pv.to_csv(\"rizqi_monthly_report_covid_indonesia_2020.csv\")"
      ],
      "metadata": {
        "id": "eyBuhWtDOueO"
      },
      "execution_count": 33,
      "outputs": []
    },
    {
      "cell_type": "code",
      "source": [
        "with open('rizqi_monthly_report_covid_indonesia_2020.csv','a') as fd:\n",
        "  fd.write(f' Total Deaths : {str(Total_deaths)}')"
      ],
      "metadata": {
        "id": "JiRKyZY2O_fH"
      },
      "execution_count": 60,
      "outputs": []
    },
    {
      "cell_type": "code",
      "source": [
        "with open('rizqi_monthly_report_covid_indonesia_2020.csv','a') as fd:\n",
        "  fd.write(f' Total Cases : {str(Total_cases)}\\n')"
      ],
      "metadata": {
        "id": "H3Qxl7fcPaE1"
      },
      "execution_count": 61,
      "outputs": []
    },
    {
      "cell_type": "code",
      "source": [
        "fileku = open('rizqi_monthly_report_covid_indonesia_2020.csv','r')\n",
        "data = fileku.read()\n",
        "print(data)"
      ],
      "metadata": {
        "colab": {
          "base_uri": "https://localhost:8080/"
        },
        "id": "Xqz9uB-fQ0n4",
        "outputId": "312a06a6-8943-4196-f056-a723c80c4eda"
      },
      "execution_count": 62,
      "outputs": [
        {
          "output_type": "stream",
          "name": "stdout",
          "text": [
            "month & year,daily_confirmed_cases,daily_deaths\n",
            "2020-01,0,0\n",
            "2020-02,0,0\n",
            "2020-03,1414,122\n",
            "2020-04,8357,662\n",
            "2020-05,16002,789\n",
            "2020-06,29319,1232\n",
            "2020-07,51244,2253\n",
            "2020-08,65717,2285\n",
            "2020-09,110671,3258\n",
            "2020-10,124221,3181\n",
            "2020-11,127321,3033\n",
            "2020-12,83554,2004\n",
            " Total Deaths : 18819 Total Cases : 617820\n",
            "\n"
          ]
        }
      ]
    },
    {
      "cell_type": "code",
      "source": [
        ""
      ],
      "metadata": {
        "id": "fwj3QhQaQ39D"
      },
      "execution_count": null,
      "outputs": []
    }
  ]
}