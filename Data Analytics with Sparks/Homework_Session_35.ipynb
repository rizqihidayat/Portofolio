{
  "nbformat": 4,
  "nbformat_minor": 0,
  "metadata": {
    "colab": {
      "name": "Homework Session 35.ipynb",
      "provenance": []
    },
    "kernelspec": {
      "name": "python3",
      "display_name": "Python 3"
    },
    "language_info": {
      "name": "python"
    }
  },
  "cells": [
    {
      "cell_type": "code",
      "execution_count": 1,
      "metadata": {
        "colab": {
          "base_uri": "https://localhost:8080/"
        },
        "id": "q9j2aPO_A3cd",
        "outputId": "c267b58b-4c76-4c53-c859-52d29dec2bbc"
      },
      "outputs": [
        {
          "output_type": "stream",
          "name": "stdout",
          "text": [
            "\r0% [Working]\r            \rGet:1 http://ppa.launchpad.net/c2d4u.team/c2d4u4.0+/ubuntu bionic InRelease [15.9 kB]\n",
            "\r0% [Connecting to archive.ubuntu.com (91.189.91.38)] [Waiting for headers] [Con\r                                                                               \rGet:2 http://security.ubuntu.com/ubuntu bionic-security InRelease [88.7 kB]\n",
            "\r0% [Connecting to archive.ubuntu.com (91.189.91.38)] [2 InRelease 0 B/88.7 kB 0\r0% [Connecting to archive.ubuntu.com (91.189.91.38)] [2 InRelease 86.6 kB/88.7 \r0% [1 InRelease gpgv 15.9 kB] [Connecting to archive.ubuntu.com (91.189.91.38)]\r0% [1 InRelease gpgv 15.9 kB] [Connecting to archive.ubuntu.com (91.189.91.38)]\r                                                                               \rHit:3 http://ppa.launchpad.net/cran/libgit2/ubuntu bionic InRelease\n",
            "\r0% [1 InRelease gpgv 15.9 kB] [Connecting to archive.ubuntu.com (91.189.91.38)]\r                                                                               \rGet:4 https://cloud.r-project.org/bin/linux/ubuntu bionic-cran40/ InRelease [3,626 B]\n",
            "\r0% [1 InRelease gpgv 15.9 kB] [Connecting to archive.ubuntu.com (91.189.91.38)]\r                                                                               \rGet:5 http://ppa.launchpad.net/deadsnakes/ppa/ubuntu bionic InRelease [15.9 kB]\n",
            "\r0% [1 InRelease gpgv 15.9 kB] [Connecting to archive.ubuntu.com (91.189.91.38)]\r0% [1 InRelease gpgv 15.9 kB] [Connecting to archive.ubuntu.com (91.189.91.38)]\r                                                                               \rGet:6 http://ppa.launchpad.net/graphics-drivers/ppa/ubuntu bionic InRelease [21.3 kB]\n",
            "Hit:7 http://archive.ubuntu.com/ubuntu bionic InRelease\n",
            "Ign:8 https://developer.download.nvidia.com/compute/cuda/repos/ubuntu1804/x86_64  InRelease\n",
            "Get:9 http://archive.ubuntu.com/ubuntu bionic-updates InRelease [88.7 kB]\n",
            "Get:10 http://ppa.launchpad.net/c2d4u.team/c2d4u4.0+/ubuntu bionic/main Sources [1,830 kB]\n",
            "Get:11 http://ppa.launchpad.net/c2d4u.team/c2d4u4.0+/ubuntu bionic/main amd64 Packages [937 kB]\n",
            "Get:12 http://archive.ubuntu.com/ubuntu bionic-backports InRelease [74.6 kB]\n",
            "Get:13 http://security.ubuntu.com/ubuntu bionic-security/restricted amd64 Packages [884 kB]\n",
            "Get:14 http://security.ubuntu.com/ubuntu bionic-security/main amd64 Packages [2,693 kB]\n",
            "Ign:15 https://developer.download.nvidia.com/compute/machine-learning/repos/ubuntu1804/x86_64  InRelease\n",
            "Get:16 https://developer.download.nvidia.com/compute/cuda/repos/ubuntu1804/x86_64  Release [696 B]\n",
            "Hit:17 https://developer.download.nvidia.com/compute/machine-learning/repos/ubuntu1804/x86_64  Release\n",
            "Get:18 https://developer.download.nvidia.com/compute/cuda/repos/ubuntu1804/x86_64  Release.gpg [836 B]\n",
            "Get:19 http://security.ubuntu.com/ubuntu bionic-security/universe amd64 Packages [1,486 kB]\n",
            "Get:20 https://cloud.r-project.org/bin/linux/ubuntu bionic-cran40/ Packages [80.8 kB]\n",
            "Get:21 http://ppa.launchpad.net/deadsnakes/ppa/ubuntu bionic/main amd64 Packages [45.3 kB]\n",
            "Get:22 http://ppa.launchpad.net/graphics-drivers/ppa/ubuntu bionic/main amd64 Packages [44.3 kB]\n",
            "Get:23 http://archive.ubuntu.com/ubuntu bionic-updates/multiverse amd64 Packages [29.8 kB]\n",
            "Get:24 http://archive.ubuntu.com/ubuntu bionic-updates/universe amd64 Packages [2,264 kB]\n",
            "Get:26 https://developer.download.nvidia.com/compute/cuda/repos/ubuntu1804/x86_64  Packages [950 kB]\n",
            "Get:27 http://archive.ubuntu.com/ubuntu bionic-updates/restricted amd64 Packages [918 kB]\n",
            "Get:28 http://archive.ubuntu.com/ubuntu bionic-updates/main amd64 Packages [3,132 kB]\n",
            "Get:29 http://archive.ubuntu.com/ubuntu bionic-backports/universe amd64 Packages [12.9 kB]\n",
            "Get:30 http://archive.ubuntu.com/ubuntu bionic-backports/main amd64 Packages [12.2 kB]\n",
            "Fetched 15.6 MB in 3s (4,846 kB/s)\n",
            "Reading package lists... Done\n"
          ]
        }
      ],
      "source": [
        "!apt-get update\n",
        "!apt-get install openjdk-8-jdk-headless -qq > /dev/null\n",
        "!wget -q https://archive.apache.org/dist/spark/spark-2.4.4/spark-2.4.4-bin-hadoop2.7.tgz\n",
        "!tar xf spark-2.4.4-bin-hadoop2.7.tgz\n",
        "!pip install -q findspark"
      ]
    },
    {
      "cell_type": "code",
      "source": [
        "import os\n",
        "os.environ[\"JAVA_HOME\"] = \"/usr/lib/jvm/java-8-openjdk-amd64\"\n",
        "os.environ[\"SPARK_HOME\"] = \"/content/spark-2.4.4-bin-hadoop2.7\""
      ],
      "metadata": {
        "id": "t5qy54OOA94M"
      },
      "execution_count": 2,
      "outputs": []
    },
    {
      "cell_type": "code",
      "source": [
        "import findspark\n",
        "findspark.init()\n",
        "from pyspark.sql import SparkSession\n",
        "from pyspark.sql.functions import *\n",
        "from pyspark.sql.types import *"
      ],
      "metadata": {
        "id": "le8qk8YwBHRd"
      },
      "execution_count": 3,
      "outputs": []
    },
    {
      "cell_type": "code",
      "source": [
        "from google.colab import files\n",
        "uploaded = files.upload()"
      ],
      "metadata": {
        "colab": {
          "resources": {
            "http://localhost:8080/nbextensions/google.colab/files.js": {
              "data": "Ly8gQ29weXJpZ2h0IDIwMTcgR29vZ2xlIExMQwovLwovLyBMaWNlbnNlZCB1bmRlciB0aGUgQXBhY2hlIExpY2Vuc2UsIFZlcnNpb24gMi4wICh0aGUgIkxpY2Vuc2UiKTsKLy8geW91IG1heSBub3QgdXNlIHRoaXMgZmlsZSBleGNlcHQgaW4gY29tcGxpYW5jZSB3aXRoIHRoZSBMaWNlbnNlLgovLyBZb3UgbWF5IG9idGFpbiBhIGNvcHkgb2YgdGhlIExpY2Vuc2UgYXQKLy8KLy8gICAgICBodHRwOi8vd3d3LmFwYWNoZS5vcmcvbGljZW5zZXMvTElDRU5TRS0yLjAKLy8KLy8gVW5sZXNzIHJlcXVpcmVkIGJ5IGFwcGxpY2FibGUgbGF3IG9yIGFncmVlZCB0byBpbiB3cml0aW5nLCBzb2Z0d2FyZQovLyBkaXN0cmlidXRlZCB1bmRlciB0aGUgTGljZW5zZSBpcyBkaXN0cmlidXRlZCBvbiBhbiAiQVMgSVMiIEJBU0lTLAovLyBXSVRIT1VUIFdBUlJBTlRJRVMgT1IgQ09ORElUSU9OUyBPRiBBTlkgS0lORCwgZWl0aGVyIGV4cHJlc3Mgb3IgaW1wbGllZC4KLy8gU2VlIHRoZSBMaWNlbnNlIGZvciB0aGUgc3BlY2lmaWMgbGFuZ3VhZ2UgZ292ZXJuaW5nIHBlcm1pc3Npb25zIGFuZAovLyBsaW1pdGF0aW9ucyB1bmRlciB0aGUgTGljZW5zZS4KCi8qKgogKiBAZmlsZW92ZXJ2aWV3IEhlbHBlcnMgZm9yIGdvb2dsZS5jb2xhYiBQeXRob24gbW9kdWxlLgogKi8KKGZ1bmN0aW9uKHNjb3BlKSB7CmZ1bmN0aW9uIHNwYW4odGV4dCwgc3R5bGVBdHRyaWJ1dGVzID0ge30pIHsKICBjb25zdCBlbGVtZW50ID0gZG9jdW1lbnQuY3JlYXRlRWxlbWVudCgnc3BhbicpOwogIGVsZW1lbnQudGV4dENvbnRlbnQgPSB0ZXh0OwogIGZvciAoY29uc3Qga2V5IG9mIE9iamVjdC5rZXlzKHN0eWxlQXR0cmlidXRlcykpIHsKICAgIGVsZW1lbnQuc3R5bGVba2V5XSA9IHN0eWxlQXR0cmlidXRlc1trZXldOwogIH0KICByZXR1cm4gZWxlbWVudDsKfQoKLy8gTWF4IG51bWJlciBvZiBieXRlcyB3aGljaCB3aWxsIGJlIHVwbG9hZGVkIGF0IGEgdGltZS4KY29uc3QgTUFYX1BBWUxPQURfU0laRSA9IDEwMCAqIDEwMjQ7CgpmdW5jdGlvbiBfdXBsb2FkRmlsZXMoaW5wdXRJZCwgb3V0cHV0SWQpIHsKICBjb25zdCBzdGVwcyA9IHVwbG9hZEZpbGVzU3RlcChpbnB1dElkLCBvdXRwdXRJZCk7CiAgY29uc3Qgb3V0cHV0RWxlbWVudCA9IGRvY3VtZW50LmdldEVsZW1lbnRCeUlkKG91dHB1dElkKTsKICAvLyBDYWNoZSBzdGVwcyBvbiB0aGUgb3V0cHV0RWxlbWVudCB0byBtYWtlIGl0IGF2YWlsYWJsZSBmb3IgdGhlIG5leHQgY2FsbAogIC8vIHRvIHVwbG9hZEZpbGVzQ29udGludWUgZnJvbSBQeXRob24uCiAgb3V0cHV0RWxlbWVudC5zdGVwcyA9IHN0ZXBzOwoKICByZXR1cm4gX3VwbG9hZEZpbGVzQ29udGludWUob3V0cHV0SWQpOwp9CgovLyBUaGlzIGlzIHJvdWdobHkgYW4gYXN5bmMgZ2VuZXJhdG9yIChub3Qgc3VwcG9ydGVkIGluIHRoZSBicm93c2VyIHlldCksCi8vIHdoZXJlIHRoZXJlIGFyZSBtdWx0aXBsZSBhc3luY2hyb25vdXMgc3RlcHMgYW5kIHRoZSBQeXRob24gc2lkZSBpcyBnb2luZwovLyB0byBwb2xsIGZvciBjb21wbGV0aW9uIG9mIGVhY2ggc3RlcC4KLy8gVGhpcyB1c2VzIGEgUHJvbWlzZSB0byBibG9jayB0aGUgcHl0aG9uIHNpZGUgb24gY29tcGxldGlvbiBvZiBlYWNoIHN0ZXAsCi8vIHRoZW4gcGFzc2VzIHRoZSByZXN1bHQgb2YgdGhlIHByZXZpb3VzIHN0ZXAgYXMgdGhlIGlucHV0IHRvIHRoZSBuZXh0IHN0ZXAuCmZ1bmN0aW9uIF91cGxvYWRGaWxlc0NvbnRpbnVlKG91dHB1dElkKSB7CiAgY29uc3Qgb3V0cHV0RWxlbWVudCA9IGRvY3VtZW50LmdldEVsZW1lbnRCeUlkKG91dHB1dElkKTsKICBjb25zdCBzdGVwcyA9IG91dHB1dEVsZW1lbnQuc3RlcHM7CgogIGNvbnN0IG5leHQgPSBzdGVwcy5uZXh0KG91dHB1dEVsZW1lbnQubGFzdFByb21pc2VWYWx1ZSk7CiAgcmV0dXJuIFByb21pc2UucmVzb2x2ZShuZXh0LnZhbHVlLnByb21pc2UpLnRoZW4oKHZhbHVlKSA9PiB7CiAgICAvLyBDYWNoZSB0aGUgbGFzdCBwcm9taXNlIHZhbHVlIHRvIG1ha2UgaXQgYXZhaWxhYmxlIHRvIHRoZSBuZXh0CiAgICAvLyBzdGVwIG9mIHRoZSBnZW5lcmF0b3IuCiAgICBvdXRwdXRFbGVtZW50Lmxhc3RQcm9taXNlVmFsdWUgPSB2YWx1ZTsKICAgIHJldHVybiBuZXh0LnZhbHVlLnJlc3BvbnNlOwogIH0pOwp9CgovKioKICogR2VuZXJhdG9yIGZ1bmN0aW9uIHdoaWNoIGlzIGNhbGxlZCBiZXR3ZWVuIGVhY2ggYXN5bmMgc3RlcCBvZiB0aGUgdXBsb2FkCiAqIHByb2Nlc3MuCiAqIEBwYXJhbSB7c3RyaW5nfSBpbnB1dElkIEVsZW1lbnQgSUQgb2YgdGhlIGlucHV0IGZpbGUgcGlja2VyIGVsZW1lbnQuCiAqIEBwYXJhbSB7c3RyaW5nfSBvdXRwdXRJZCBFbGVtZW50IElEIG9mIHRoZSBvdXRwdXQgZGlzcGxheS4KICogQHJldHVybiB7IUl0ZXJhYmxlPCFPYmplY3Q+fSBJdGVyYWJsZSBvZiBuZXh0IHN0ZXBzLgogKi8KZnVuY3Rpb24qIHVwbG9hZEZpbGVzU3RlcChpbnB1dElkLCBvdXRwdXRJZCkgewogIGNvbnN0IGlucHV0RWxlbWVudCA9IGRvY3VtZW50LmdldEVsZW1lbnRCeUlkKGlucHV0SWQpOwogIGlucHV0RWxlbWVudC5kaXNhYmxlZCA9IGZhbHNlOwoKICBjb25zdCBvdXRwdXRFbGVtZW50ID0gZG9jdW1lbnQuZ2V0RWxlbWVudEJ5SWQob3V0cHV0SWQpOwogIG91dHB1dEVsZW1lbnQuaW5uZXJIVE1MID0gJyc7CgogIGNvbnN0IHBpY2tlZFByb21pc2UgPSBuZXcgUHJvbWlzZSgocmVzb2x2ZSkgPT4gewogICAgaW5wdXRFbGVtZW50LmFkZEV2ZW50TGlzdGVuZXIoJ2NoYW5nZScsIChlKSA9PiB7CiAgICAgIHJlc29sdmUoZS50YXJnZXQuZmlsZXMpOwogICAgfSk7CiAgfSk7CgogIGNvbnN0IGNhbmNlbCA9IGRvY3VtZW50LmNyZWF0ZUVsZW1lbnQoJ2J1dHRvbicpOwogIGlucHV0RWxlbWVudC5wYXJlbnRFbGVtZW50LmFwcGVuZENoaWxkKGNhbmNlbCk7CiAgY2FuY2VsLnRleHRDb250ZW50ID0gJ0NhbmNlbCB1cGxvYWQnOwogIGNvbnN0IGNhbmNlbFByb21pc2UgPSBuZXcgUHJvbWlzZSgocmVzb2x2ZSkgPT4gewogICAgY2FuY2VsLm9uY2xpY2sgPSAoKSA9PiB7CiAgICAgIHJlc29sdmUobnVsbCk7CiAgICB9OwogIH0pOwoKICAvLyBXYWl0IGZvciB0aGUgdXNlciB0byBwaWNrIHRoZSBmaWxlcy4KICBjb25zdCBmaWxlcyA9IHlpZWxkIHsKICAgIHByb21pc2U6IFByb21pc2UucmFjZShbcGlja2VkUHJvbWlzZSwgY2FuY2VsUHJvbWlzZV0pLAogICAgcmVzcG9uc2U6IHsKICAgICAgYWN0aW9uOiAnc3RhcnRpbmcnLAogICAgfQogIH07CgogIGNhbmNlbC5yZW1vdmUoKTsKCiAgLy8gRGlzYWJsZSB0aGUgaW5wdXQgZWxlbWVudCBzaW5jZSBmdXJ0aGVyIHBpY2tzIGFyZSBub3QgYWxsb3dlZC4KICBpbnB1dEVsZW1lbnQuZGlzYWJsZWQgPSB0cnVlOwoKICBpZiAoIWZpbGVzKSB7CiAgICByZXR1cm4gewogICAgICByZXNwb25zZTogewogICAgICAgIGFjdGlvbjogJ2NvbXBsZXRlJywKICAgICAgfQogICAgfTsKICB9CgogIGZvciAoY29uc3QgZmlsZSBvZiBmaWxlcykgewogICAgY29uc3QgbGkgPSBkb2N1bWVudC5jcmVhdGVFbGVtZW50KCdsaScpOwogICAgbGkuYXBwZW5kKHNwYW4oZmlsZS5uYW1lLCB7Zm9udFdlaWdodDogJ2JvbGQnfSkpOwogICAgbGkuYXBwZW5kKHNwYW4oCiAgICAgICAgYCgke2ZpbGUudHlwZSB8fCAnbi9hJ30pIC0gJHtmaWxlLnNpemV9IGJ5dGVzLCBgICsKICAgICAgICBgbGFzdCBtb2RpZmllZDogJHsKICAgICAgICAgICAgZmlsZS5sYXN0TW9kaWZpZWREYXRlID8gZmlsZS5sYXN0TW9kaWZpZWREYXRlLnRvTG9jYWxlRGF0ZVN0cmluZygpIDoKICAgICAgICAgICAgICAgICAgICAgICAgICAgICAgICAgICAgJ24vYSd9IC0gYCkpOwogICAgY29uc3QgcGVyY2VudCA9IHNwYW4oJzAlIGRvbmUnKTsKICAgIGxpLmFwcGVuZENoaWxkKHBlcmNlbnQpOwoKICAgIG91dHB1dEVsZW1lbnQuYXBwZW5kQ2hpbGQobGkpOwoKICAgIGNvbnN0IGZpbGVEYXRhUHJvbWlzZSA9IG5ldyBQcm9taXNlKChyZXNvbHZlKSA9PiB7CiAgICAgIGNvbnN0IHJlYWRlciA9IG5ldyBGaWxlUmVhZGVyKCk7CiAgICAgIHJlYWRlci5vbmxvYWQgPSAoZSkgPT4gewogICAgICAgIHJlc29sdmUoZS50YXJnZXQucmVzdWx0KTsKICAgICAgfTsKICAgICAgcmVhZGVyLnJlYWRBc0FycmF5QnVmZmVyKGZpbGUpOwogICAgfSk7CiAgICAvLyBXYWl0IGZvciB0aGUgZGF0YSB0byBiZSByZWFkeS4KICAgIGxldCBmaWxlRGF0YSA9IHlpZWxkIHsKICAgICAgcHJvbWlzZTogZmlsZURhdGFQcm9taXNlLAogICAgICByZXNwb25zZTogewogICAgICAgIGFjdGlvbjogJ2NvbnRpbnVlJywKICAgICAgfQogICAgfTsKCiAgICAvLyBVc2UgYSBjaHVua2VkIHNlbmRpbmcgdG8gYXZvaWQgbWVzc2FnZSBzaXplIGxpbWl0cy4gU2VlIGIvNjIxMTU2NjAuCiAgICBsZXQgcG9zaXRpb24gPSAwOwogICAgZG8gewogICAgICBjb25zdCBsZW5ndGggPSBNYXRoLm1pbihmaWxlRGF0YS5ieXRlTGVuZ3RoIC0gcG9zaXRpb24sIE1BWF9QQVlMT0FEX1NJWkUpOwogICAgICBjb25zdCBjaHVuayA9IG5ldyBVaW50OEFycmF5KGZpbGVEYXRhLCBwb3NpdGlvbiwgbGVuZ3RoKTsKICAgICAgcG9zaXRpb24gKz0gbGVuZ3RoOwoKICAgICAgY29uc3QgYmFzZTY0ID0gYnRvYShTdHJpbmcuZnJvbUNoYXJDb2RlLmFwcGx5KG51bGwsIGNodW5rKSk7CiAgICAgIHlpZWxkIHsKICAgICAgICByZXNwb25zZTogewogICAgICAgICAgYWN0aW9uOiAnYXBwZW5kJywKICAgICAgICAgIGZpbGU6IGZpbGUubmFtZSwKICAgICAgICAgIGRhdGE6IGJhc2U2NCwKICAgICAgICB9LAogICAgICB9OwoKICAgICAgbGV0IHBlcmNlbnREb25lID0gZmlsZURhdGEuYnl0ZUxlbmd0aCA9PT0gMCA/CiAgICAgICAgICAxMDAgOgogICAgICAgICAgTWF0aC5yb3VuZCgocG9zaXRpb24gLyBmaWxlRGF0YS5ieXRlTGVuZ3RoKSAqIDEwMCk7CiAgICAgIHBlcmNlbnQudGV4dENvbnRlbnQgPSBgJHtwZXJjZW50RG9uZX0lIGRvbmVgOwoKICAgIH0gd2hpbGUgKHBvc2l0aW9uIDwgZmlsZURhdGEuYnl0ZUxlbmd0aCk7CiAgfQoKICAvLyBBbGwgZG9uZS4KICB5aWVsZCB7CiAgICByZXNwb25zZTogewogICAgICBhY3Rpb246ICdjb21wbGV0ZScsCiAgICB9CiAgfTsKfQoKc2NvcGUuZ29vZ2xlID0gc2NvcGUuZ29vZ2xlIHx8IHt9OwpzY29wZS5nb29nbGUuY29sYWIgPSBzY29wZS5nb29nbGUuY29sYWIgfHwge307CnNjb3BlLmdvb2dsZS5jb2xhYi5fZmlsZXMgPSB7CiAgX3VwbG9hZEZpbGVzLAogIF91cGxvYWRGaWxlc0NvbnRpbnVlLAp9Owp9KShzZWxmKTsK",
              "ok": true,
              "headers": [
                [
                  "content-type",
                  "application/javascript"
                ]
              ],
              "status": 200,
              "status_text": ""
            }
          },
          "base_uri": "https://localhost:8080/",
          "height": 73
        },
        "id": "iYfdkeO0BKty",
        "outputId": "7f926174-1331-4783-f0ca-ca11a61d98c4"
      },
      "execution_count": 4,
      "outputs": [
        {
          "output_type": "display_data",
          "data": {
            "text/plain": [
              "<IPython.core.display.HTML object>"
            ],
            "text/html": [
              "\n",
              "     <input type=\"file\" id=\"files-2079977f-8f57-427d-ba18-a0bb2cf47470\" name=\"files[]\" multiple disabled\n",
              "        style=\"border:none\" />\n",
              "     <output id=\"result-2079977f-8f57-427d-ba18-a0bb2cf47470\">\n",
              "      Upload widget is only available when the cell has been executed in the\n",
              "      current browser session. Please rerun this cell to enable.\n",
              "      </output>\n",
              "      <script src=\"/nbextensions/google.colab/files.js\"></script> "
            ]
          },
          "metadata": {}
        },
        {
          "output_type": "stream",
          "name": "stdout",
          "text": [
            "Saving homework_source_file.zip to homework_source_file.zip\n"
          ]
        }
      ]
    },
    {
      "cell_type": "code",
      "source": [
        "!unzip homework_source_file.zip"
      ],
      "metadata": {
        "colab": {
          "base_uri": "https://localhost:8080/"
        },
        "id": "ZMtlAmXnBOXL",
        "outputId": "1d64665f-725b-4192-d92f-f4b47ffb1704"
      },
      "execution_count": 5,
      "outputs": [
        {
          "output_type": "stream",
          "name": "stdout",
          "text": [
            "Archive:  homework_source_file.zip\n",
            "  inflating: suppliers.csv           \n",
            "  inflating: order_details.csv       \n",
            "  inflating: orders.csv              \n",
            "  inflating: products.csv            \n"
          ]
        }
      ]
    },
    {
      "cell_type": "code",
      "source": [
        "spark = SparkSession \\\n",
        "    .builder \\\n",
        "    .master(\"local[*]\") \\\n",
        "    .appName(\"test\") \\\n",
        "    .getOrCreate()"
      ],
      "metadata": {
        "id": "ZTyM__ktBhBF"
      },
      "execution_count": 6,
      "outputs": []
    },
    {
      "cell_type": "code",
      "source": [
        "from google.colab import drive\n",
        "drive.mount('/content/drive')"
      ],
      "metadata": {
        "colab": {
          "base_uri": "https://localhost:8080/"
        },
        "id": "Qt6XYbWqCWPF",
        "outputId": "dee90b52-7b39-43c7-ffbe-5f808e0b4a98"
      },
      "execution_count": 7,
      "outputs": [
        {
          "output_type": "stream",
          "name": "stdout",
          "text": [
            "Mounted at /content/drive\n"
          ]
        }
      ]
    },
    {
      "cell_type": "code",
      "source": [
        "df_products = spark.read. \\\n",
        "  format(\"csv\"). \\\n",
        "  option(\"inferSchema\",\"true\"). \\\n",
        "  option(\"header\",\"true\"). \\\n",
        "  load(\"products.csv\")"
      ],
      "metadata": {
        "id": "TxOAZK2ZCaNh"
      },
      "execution_count": 8,
      "outputs": []
    },
    {
      "cell_type": "code",
      "source": [
        "df_products.show(2)\n",
        "df_products.printSchema()\n",
        "df_products.dtypes"
      ],
      "metadata": {
        "colab": {
          "base_uri": "https://localhost:8080/"
        },
        "id": "zKvoCfiFCs_Q",
        "outputId": "0f2dfdc3-1f94-4950-eae0-d6a1a2d7208d"
      },
      "execution_count": 9,
      "outputs": [
        {
          "output_type": "stream",
          "name": "stdout",
          "text": [
            "+----------+------------+-----------+-----------+------------------+----------+--------------+--------------+-------------+------------+\n",
            "|product_id|product_name|supplier_id|category_id| quantity_per_unit|unit_price|units_in_stock|units_on_order|reorder_level|discontinued|\n",
            "+----------+------------+-----------+-----------+------------------+----------+--------------+--------------+-------------+------------+\n",
            "|         1|        Chai|          8|          1|10 boxes x 30 bags|      18.0|            39|             0|           10|           1|\n",
            "|         2|       Chang|          1|          1|24 - 12 oz bottles|      19.0|            17|            40|           25|           1|\n",
            "+----------+------------+-----------+-----------+------------------+----------+--------------+--------------+-------------+------------+\n",
            "only showing top 2 rows\n",
            "\n",
            "root\n",
            " |-- product_id: integer (nullable = true)\n",
            " |-- product_name: string (nullable = true)\n",
            " |-- supplier_id: integer (nullable = true)\n",
            " |-- category_id: integer (nullable = true)\n",
            " |-- quantity_per_unit: string (nullable = true)\n",
            " |-- unit_price: double (nullable = true)\n",
            " |-- units_in_stock: integer (nullable = true)\n",
            " |-- units_on_order: integer (nullable = true)\n",
            " |-- reorder_level: integer (nullable = true)\n",
            " |-- discontinued: integer (nullable = true)\n",
            "\n"
          ]
        },
        {
          "output_type": "execute_result",
          "data": {
            "text/plain": [
              "[('product_id', 'int'),\n",
              " ('product_name', 'string'),\n",
              " ('supplier_id', 'int'),\n",
              " ('category_id', 'int'),\n",
              " ('quantity_per_unit', 'string'),\n",
              " ('unit_price', 'double'),\n",
              " ('units_in_stock', 'int'),\n",
              " ('units_on_order', 'int'),\n",
              " ('reorder_level', 'int'),\n",
              " ('discontinued', 'int')]"
            ]
          },
          "metadata": {},
          "execution_count": 9
        }
      ]
    },
    {
      "cell_type": "code",
      "source": [
        "df_products = df_products \\\n",
        "  .withColumn(\"product_id\" ,\n",
        "              df_products[\"product_id\"]\n",
        "              .cast(StringType()))   \\\n",
        "  .withColumn(\"supplier_id\",\n",
        "              df_products[\"supplier_id\"]\n",
        "              .cast(StringType()))    \\\n",
        "  .withColumn(\"category_id\"  ,\n",
        "              df_products[\"category_id\"]\n",
        "              .cast(StringType())) \\"
      ],
      "metadata": {
        "id": "w5EQZlb4C6HZ"
      },
      "execution_count": 10,
      "outputs": []
    },
    {
      "cell_type": "code",
      "source": [
        "df_products.printSchema()"
      ],
      "metadata": {
        "colab": {
          "base_uri": "https://localhost:8080/"
        },
        "id": "uRvKKQu2DG-J",
        "outputId": "a146f8f5-c837-41b1-d3fd-ff42ea59b8f6"
      },
      "execution_count": 11,
      "outputs": [
        {
          "output_type": "stream",
          "name": "stdout",
          "text": [
            "root\n",
            " |-- product_id: string (nullable = true)\n",
            " |-- product_name: string (nullable = true)\n",
            " |-- supplier_id: string (nullable = true)\n",
            " |-- category_id: string (nullable = true)\n",
            " |-- quantity_per_unit: string (nullable = true)\n",
            " |-- unit_price: double (nullable = true)\n",
            " |-- units_in_stock: integer (nullable = true)\n",
            " |-- units_on_order: integer (nullable = true)\n",
            " |-- reorder_level: integer (nullable = true)\n",
            " |-- discontinued: integer (nullable = true)\n",
            "\n"
          ]
        }
      ]
    },
    {
      "cell_type": "code",
      "source": [
        "df_orders = spark.read. \\\n",
        "  format(\"csv\"). \\\n",
        "  option(\"inferSchema\",\"true\"). \\\n",
        "  option(\"header\",\"true\"). \\\n",
        "  load(\"orders.csv\")"
      ],
      "metadata": {
        "id": "K_PDR4nCDK2M"
      },
      "execution_count": 12,
      "outputs": []
    },
    {
      "cell_type": "code",
      "source": [
        "df_orders.show(2)\n",
        "df_orders.printSchema()\n",
        "df_orders.dtypes"
      ],
      "metadata": {
        "colab": {
          "base_uri": "https://localhost:8080/"
        },
        "id": "sJLzaBTwDRPx",
        "outputId": "c0a2059d-6e88-4dc5-f4b1-8502e8c63f4b"
      },
      "execution_count": 13,
      "outputs": [
        {
          "output_type": "stream",
          "name": "stdout",
          "text": [
            "+--------+-----------+-----------+-------------------+-------------------+-------------------+--------+-------+--------------------+------------------+---------+-----------+----------------+------------+\n",
            "|order_id|customer_id|employee_id|         order_date|      required_date|       shipped_date|ship_via|freight|           ship_name|      ship_address|ship_city|ship_region|ship_postal_code|ship_country|\n",
            "+--------+-----------+-----------+-------------------+-------------------+-------------------+--------+-------+--------------------+------------------+---------+-----------+----------------+------------+\n",
            "|   10248|      VINET|          5|1996-07-04 00:00:00|1996-08-01 00:00:00|1996-07-16 00:00:00|       3|  32.38|Vins et alcools C...|59 rue de l'Abbaye|    Reims|       null|           51100|      France|\n",
            "|   10249|      TOMSP|          6|1996-07-05 00:00:00|1996-08-16 00:00:00|1996-07-10 00:00:00|       1|  11.61|  Toms Spezialitäten|     Luisenstr. 48|  Münster|       null|           44087|     Germany|\n",
            "+--------+-----------+-----------+-------------------+-------------------+-------------------+--------+-------+--------------------+------------------+---------+-----------+----------------+------------+\n",
            "only showing top 2 rows\n",
            "\n",
            "root\n",
            " |-- order_id: integer (nullable = true)\n",
            " |-- customer_id: string (nullable = true)\n",
            " |-- employee_id: integer (nullable = true)\n",
            " |-- order_date: timestamp (nullable = true)\n",
            " |-- required_date: timestamp (nullable = true)\n",
            " |-- shipped_date: timestamp (nullable = true)\n",
            " |-- ship_via: integer (nullable = true)\n",
            " |-- freight: double (nullable = true)\n",
            " |-- ship_name: string (nullable = true)\n",
            " |-- ship_address: string (nullable = true)\n",
            " |-- ship_city: string (nullable = true)\n",
            " |-- ship_region: string (nullable = true)\n",
            " |-- ship_postal_code: string (nullable = true)\n",
            " |-- ship_country: string (nullable = true)\n",
            "\n"
          ]
        },
        {
          "output_type": "execute_result",
          "data": {
            "text/plain": [
              "[('order_id', 'int'),\n",
              " ('customer_id', 'string'),\n",
              " ('employee_id', 'int'),\n",
              " ('order_date', 'timestamp'),\n",
              " ('required_date', 'timestamp'),\n",
              " ('shipped_date', 'timestamp'),\n",
              " ('ship_via', 'int'),\n",
              " ('freight', 'double'),\n",
              " ('ship_name', 'string'),\n",
              " ('ship_address', 'string'),\n",
              " ('ship_city', 'string'),\n",
              " ('ship_region', 'string'),\n",
              " ('ship_postal_code', 'string'),\n",
              " ('ship_country', 'string')]"
            ]
          },
          "metadata": {},
          "execution_count": 13
        }
      ]
    },
    {
      "cell_type": "code",
      "source": [
        "df_orders = df_orders \\\n",
        "  .withColumn(\"order_id\" ,\n",
        "              df_orders[\"order_id\"]\n",
        "              .cast(StringType()))   \\\n",
        "  .withColumn(\"employee_id\"  ,\n",
        "              df_orders[\"employee_id\"]\n",
        "              .cast(StringType())) \\"
      ],
      "metadata": {
        "id": "-lmhfdrmDT7U"
      },
      "execution_count": 14,
      "outputs": []
    },
    {
      "cell_type": "code",
      "source": [
        "df_orders.printSchema()"
      ],
      "metadata": {
        "colab": {
          "base_uri": "https://localhost:8080/"
        },
        "id": "jNQi9QnADZbh",
        "outputId": "3f0af019-8547-488b-ac14-0407adffca0c"
      },
      "execution_count": 15,
      "outputs": [
        {
          "output_type": "stream",
          "name": "stdout",
          "text": [
            "root\n",
            " |-- order_id: string (nullable = true)\n",
            " |-- customer_id: string (nullable = true)\n",
            " |-- employee_id: string (nullable = true)\n",
            " |-- order_date: timestamp (nullable = true)\n",
            " |-- required_date: timestamp (nullable = true)\n",
            " |-- shipped_date: timestamp (nullable = true)\n",
            " |-- ship_via: integer (nullable = true)\n",
            " |-- freight: double (nullable = true)\n",
            " |-- ship_name: string (nullable = true)\n",
            " |-- ship_address: string (nullable = true)\n",
            " |-- ship_city: string (nullable = true)\n",
            " |-- ship_region: string (nullable = true)\n",
            " |-- ship_postal_code: string (nullable = true)\n",
            " |-- ship_country: string (nullable = true)\n",
            "\n"
          ]
        }
      ]
    },
    {
      "cell_type": "code",
      "source": [
        "df_order_details = spark.read. \\\n",
        "  format(\"csv\"). \\\n",
        "  option(\"inferSchema\",\"true\"). \\\n",
        "  option(\"header\",\"true\"). \\\n",
        "  load(\"order_details.csv\")"
      ],
      "metadata": {
        "id": "QUJ35EJADcm2"
      },
      "execution_count": 21,
      "outputs": []
    },
    {
      "cell_type": "code",
      "source": [
        "df_order_details.show(2)\n",
        "df_order_details.printSchema()\n",
        "df_order_details.dtypes"
      ],
      "metadata": {
        "colab": {
          "base_uri": "https://localhost:8080/"
        },
        "id": "fMQ-afBqDhwA",
        "outputId": "ac464c59-1749-48aa-e113-144d285873c7"
      },
      "execution_count": 22,
      "outputs": [
        {
          "output_type": "stream",
          "name": "stdout",
          "text": [
            "+--------+----------+----------+--------+--------+\n",
            "|order_id|product_id|unit_price|quantity|discount|\n",
            "+--------+----------+----------+--------+--------+\n",
            "|   10248|        11|      14.0|      12|     0.0|\n",
            "|   10248|        42|       9.8|      10|     0.0|\n",
            "+--------+----------+----------+--------+--------+\n",
            "only showing top 2 rows\n",
            "\n",
            "root\n",
            " |-- order_id: integer (nullable = true)\n",
            " |-- product_id: integer (nullable = true)\n",
            " |-- unit_price: double (nullable = true)\n",
            " |-- quantity: integer (nullable = true)\n",
            " |-- discount: double (nullable = true)\n",
            "\n"
          ]
        },
        {
          "output_type": "execute_result",
          "data": {
            "text/plain": [
              "[('order_id', 'int'),\n",
              " ('product_id', 'int'),\n",
              " ('unit_price', 'double'),\n",
              " ('quantity', 'int'),\n",
              " ('discount', 'double')]"
            ]
          },
          "metadata": {},
          "execution_count": 22
        }
      ]
    },
    {
      "cell_type": "code",
      "source": [
        "df_order_details = df_order_details \\\n",
        "  .withColumn(\"order_id\" ,\n",
        "              df_order_details[\"order_id\"]\n",
        "              .cast(StringType()))   \\\n",
        "  .withColumn(\"product_id\"  ,\n",
        "              df_order_details[\"product_id\"]\n",
        "              .cast(StringType())) \\"
      ],
      "metadata": {
        "id": "hiagKAaoDkF5"
      },
      "execution_count": 23,
      "outputs": []
    },
    {
      "cell_type": "code",
      "source": [
        "df_order_details.printSchema()"
      ],
      "metadata": {
        "colab": {
          "base_uri": "https://localhost:8080/"
        },
        "id": "iJJQ1SQBDqYU",
        "outputId": "2751a314-0d2a-4717-8d2d-7ba970531b4d"
      },
      "execution_count": 24,
      "outputs": [
        {
          "output_type": "stream",
          "name": "stdout",
          "text": [
            "root\n",
            " |-- order_id: string (nullable = true)\n",
            " |-- product_id: string (nullable = true)\n",
            " |-- unit_price: double (nullable = true)\n",
            " |-- quantity: integer (nullable = true)\n",
            " |-- discount: double (nullable = true)\n",
            "\n"
          ]
        }
      ]
    },
    {
      "cell_type": "code",
      "source": [
        "df_suppliers = spark.read. \\\n",
        "  format(\"csv\"). \\\n",
        "  option(\"inferSchema\",\"true\"). \\\n",
        "  option(\"header\",\"true\"). \\\n",
        "  load(\"suppliers.csv\")"
      ],
      "metadata": {
        "id": "QjIYol81Dsk4"
      },
      "execution_count": 25,
      "outputs": []
    },
    {
      "cell_type": "code",
      "source": [
        "df_suppliers.show(2)\n",
        "df_suppliers.printSchema()\n",
        "df_suppliers.dtypes"
      ],
      "metadata": {
        "colab": {
          "base_uri": "https://localhost:8080/"
        },
        "id": "BZohoFDPD0QG",
        "outputId": "1c061e54-6d5a-47e2-9c89-922d7fb763bd"
      },
      "execution_count": 26,
      "outputs": [
        {
          "output_type": "stream",
          "name": "stdout",
          "text": [
            "+-----------+--------------------+----------------+-------------------+--------------+-----------+------+-----------+-------+--------------+----+-----------+\n",
            "|supplier_id|        company_name|    contact_name|      contact_title|       address|       city|region|postal_code|country|         phone| fax|   homepage|\n",
            "+-----------+--------------------+----------------+-------------------+--------------+-----------+------+-----------+-------+--------------+----+-----------+\n",
            "|          1|      Exotic Liquids|Charlotte Cooper| Purchasing Manager|49 Gilbert St.|     London|  null|    EC1 4SD|     UK|(171) 555-2222|null|       null|\n",
            "|          2|New Orleans Cajun...|   Shelley Burke|Order Administrator|P.O. Box 78934|New Orleans|    LA|      70117|    USA|(100) 555-4822|null|#CAJUN.HTM#|\n",
            "+-----------+--------------------+----------------+-------------------+--------------+-----------+------+-----------+-------+--------------+----+-----------+\n",
            "only showing top 2 rows\n",
            "\n",
            "root\n",
            " |-- supplier_id: integer (nullable = true)\n",
            " |-- company_name: string (nullable = true)\n",
            " |-- contact_name: string (nullable = true)\n",
            " |-- contact_title: string (nullable = true)\n",
            " |-- address: string (nullable = true)\n",
            " |-- city: string (nullable = true)\n",
            " |-- region: string (nullable = true)\n",
            " |-- postal_code: string (nullable = true)\n",
            " |-- country: string (nullable = true)\n",
            " |-- phone: string (nullable = true)\n",
            " |-- fax: string (nullable = true)\n",
            " |-- homepage: string (nullable = true)\n",
            "\n"
          ]
        },
        {
          "output_type": "execute_result",
          "data": {
            "text/plain": [
              "[('supplier_id', 'int'),\n",
              " ('company_name', 'string'),\n",
              " ('contact_name', 'string'),\n",
              " ('contact_title', 'string'),\n",
              " ('address', 'string'),\n",
              " ('city', 'string'),\n",
              " ('region', 'string'),\n",
              " ('postal_code', 'string'),\n",
              " ('country', 'string'),\n",
              " ('phone', 'string'),\n",
              " ('fax', 'string'),\n",
              " ('homepage', 'string')]"
            ]
          },
          "metadata": {},
          "execution_count": 26
        }
      ]
    },
    {
      "cell_type": "code",
      "source": [
        "df_suppliers = df_suppliers \\\n",
        "  .withColumn(\"supplier_id\" ,\n",
        "              df_suppliers[\"supplier_id\"]\n",
        "              .cast(StringType()))   \\"
      ],
      "metadata": {
        "id": "KEj3_Y_pEE2I"
      },
      "execution_count": 93,
      "outputs": []
    },
    {
      "cell_type": "code",
      "source": [
        "df_suppliers.dtypes"
      ],
      "metadata": {
        "colab": {
          "base_uri": "https://localhost:8080/"
        },
        "id": "itImgED8ey5b",
        "outputId": "8a9a8b4f-4bb6-47ac-d4b7-0b88272effd5"
      },
      "execution_count": 50,
      "outputs": [
        {
          "output_type": "execute_result",
          "data": {
            "text/plain": [
              "[('supplier_id', 'string'),\n",
              " ('company_name', 'string'),\n",
              " ('contact_name', 'string'),\n",
              " ('contact_title', 'string'),\n",
              " ('address', 'string'),\n",
              " ('city', 'string'),\n",
              " ('region', 'string'),\n",
              " ('postal_code', 'string'),\n",
              " ('country', 'string'),\n",
              " ('phone', 'string'),\n",
              " ('fax', 'string'),\n",
              " ('homepage', 'string')]"
            ]
          },
          "metadata": {},
          "execution_count": 50
        }
      ]
    },
    {
      "cell_type": "code",
      "source": [
        "df_denormalized = df_orders.join(df_order_details,\"order_id\").join(df_products,\"product_id\").join(df_suppliers,\"supplier_id\")"
      ],
      "metadata": {
        "id": "C0_9mCUdJcqw"
      },
      "execution_count": 68,
      "outputs": []
    },
    {
      "cell_type": "code",
      "source": [
        "df_denormalized.show(10)"
      ],
      "metadata": {
        "colab": {
          "base_uri": "https://localhost:8080/"
        },
        "id": "C_LD-vR7Jipi",
        "outputId": "53b826c6-d894-41e8-c00f-f5653c6cc127"
      },
      "execution_count": 69,
      "outputs": [
        {
          "output_type": "stream",
          "name": "stdout",
          "text": [
            "+-----------+----------+--------+-----------+-----------+-------------------+-------------------+-------------------+--------+-------+--------------------+------------------+--------------+-----------+----------------+------------+----------+--------+--------+--------------------+-----------+-----------------+----------+--------------+--------------+-------------+------------+--------------------+--------------------+--------------------+--------------------+-----------+--------+-----------+---------+--------------+--------------+--------------------+\n",
            "|supplier_id|product_id|order_id|customer_id|employee_id|         order_date|      required_date|       shipped_date|ship_via|freight|           ship_name|      ship_address|     ship_city|ship_region|ship_postal_code|ship_country|unit_price|quantity|discount|        product_name|category_id|quantity_per_unit|unit_price|units_in_stock|units_on_order|reorder_level|discontinued|        company_name|        contact_name|       contact_title|             address|       city|  region|postal_code|  country|         phone|           fax|            homepage|\n",
            "+-----------+----------+--------+-----------+-----------+-------------------+-------------------+-------------------+--------+-------+--------------------+------------------+--------------+-----------+----------------+------------+----------+--------+--------+--------------------+-----------+-----------------+----------+--------------+--------------+-------------+------------+--------------------+--------------------+--------------------+--------------------+-----------+--------+-----------+---------+--------------+--------------+--------------------+\n",
            "|         14|        72|   10248|      VINET|          5|1996-07-04 00:00:00|1996-08-01 00:00:00|1996-07-16 00:00:00|       3|  32.38|Vins et alcools C...|59 rue de l'Abbaye|         Reims|       null|           51100|      France|      34.8|       5|     0.0|Mozzarella di Gio...|          4| 24 - 200 g pkgs.|      34.8|            14|             0|            0|           0|Formaggi Fortini ...|          Elio Rossi|Sales Representative|     Viale Dante, 75|    Ravenna|    null|      48100|    Italy|  (0544) 60323|  (0544) 60603|      #FORMAGGI.HTM#|\n",
            "|         20|        42|   10248|      VINET|          5|1996-07-04 00:00:00|1996-08-01 00:00:00|1996-07-16 00:00:00|       3|  32.38|Vins et alcools C...|59 rue de l'Abbaye|         Reims|       null|           51100|      France|       9.8|      10|     0.0|Singaporean Hokki...|          5|  32 - 1 kg pkgs.|      14.0|            26|             0|            0|           1|        Leka Trading|        Chandra Leka|               Owner|471 Serangoon Loo...|  Singapore|    null|       0512|Singapore|      555-8787|          null|                null|\n",
            "|          5|        11|   10248|      VINET|          5|1996-07-04 00:00:00|1996-08-01 00:00:00|1996-07-16 00:00:00|       3|  32.38|Vins et alcools C...|59 rue de l'Abbaye|         Reims|       null|           51100|      France|      14.0|      12|     0.0|      Queso Cabrales|          4|        1 kg pkg.|      21.0|            22|            30|           30|           0|Cooperativa de Qu...|Antonio del Valle...|Export Administrator|   Calle del Rosal 4|     Oviedo|Asturias|      33007|    Spain|(98) 598 76 54|          null|                null|\n",
            "|         24|        51|   10249|      TOMSP|          6|1996-07-05 00:00:00|1996-08-16 00:00:00|1996-07-10 00:00:00|       1|  11.61|  Toms Spezialitäten|     Luisenstr. 48|       Münster|       null|           44087|     Germany|      42.4|      40|     0.0|Manjimup Dried Ap...|          7| 50 - 300 g pkgs.|      53.0|            20|             0|           10|           0|         G'day, Mate|     Wendy Mackenzie|Sales Representative|170 Prince Edward...|     Sydney|     NSW|       2042|Australia| (02) 555-5914| (02) 555-4873|G'day Mate (on th...|\n",
            "|          6|        14|   10249|      TOMSP|          6|1996-07-05 00:00:00|1996-08-16 00:00:00|1996-07-10 00:00:00|       1|  11.61|  Toms Spezialitäten|     Luisenstr. 48|       Münster|       null|           44087|     Germany|      18.6|       9|     0.0|                Tofu|          7| 40 - 100 g pkgs.|     23.25|            35|             0|            0|           0|            Mayumi's|         Mayumi Ohno|Marketing Represe...|  92 Setsuko Chuo-ku|      Osaka|    null|        545|    Japan| (06) 431-7877|          null|Mayumi's (on the ...|\n",
            "|          2|        65|   10250|      HANAR|          4|1996-07-08 00:00:00|1996-08-05 00:00:00|1996-07-12 00:00:00|       2|  65.83|       Hanari Carnes|   Rua do Paço, 67|Rio de Janeiro|         RJ|       05454-876|      Brazil|      16.8|      15|    0.15|Louisiana Fiery H...|          2|32 - 8 oz bottles|     21.05|            76|             0|            0|           0|New Orleans Cajun...|       Shelley Burke| Order Administrator|      P.O. Box 78934|New Orleans|      LA|      70117|      USA|(100) 555-4822|          null|         #CAJUN.HTM#|\n",
            "|         24|        51|   10250|      HANAR|          4|1996-07-08 00:00:00|1996-08-05 00:00:00|1996-07-12 00:00:00|       2|  65.83|       Hanari Carnes|   Rua do Paço, 67|Rio de Janeiro|         RJ|       05454-876|      Brazil|      42.4|      35|    0.15|Manjimup Dried Ap...|          7| 50 - 300 g pkgs.|      53.0|            20|             0|           10|           0|         G'day, Mate|     Wendy Mackenzie|Sales Representative|170 Prince Edward...|     Sydney|     NSW|       2042|Australia| (02) 555-5914| (02) 555-4873|G'day Mate (on th...|\n",
            "|         19|        41|   10250|      HANAR|          4|1996-07-08 00:00:00|1996-08-05 00:00:00|1996-07-12 00:00:00|       2|  65.83|       Hanari Carnes|   Rua do Paço, 67|Rio de Janeiro|         RJ|       05454-876|      Brazil|       7.7|      10|     0.0|Jack's New Englan...|          8|  12 - 12 oz cans|      9.65|            85|             0|           10|           0|New England Seafo...|       Robb Merchant|Wholesale Account...|Order Processing ...|     Boston|      MA|      02134|      USA|(617) 555-3267|(617) 555-3389|                null|\n",
            "|          2|        65|   10251|      VICTE|          3|1996-07-08 00:00:00|1996-08-05 00:00:00|1996-07-15 00:00:00|       1|  41.34|Victuailles en stock|2, rue du Commerce|          Lyon|       null|           69004|      France|      16.8|      20|     0.0|Louisiana Fiery H...|          2|32 - 8 oz bottles|     21.05|            76|             0|            0|           0|New Orleans Cajun...|       Shelley Burke| Order Administrator|      P.O. Box 78934|New Orleans|      LA|      70117|      USA|(100) 555-4822|          null|         #CAJUN.HTM#|\n",
            "|         26|        57|   10251|      VICTE|          3|1996-07-08 00:00:00|1996-08-05 00:00:00|1996-07-15 00:00:00|       1|  41.34|Victuailles en stock|2, rue du Commerce|          Lyon|       null|           69004|      France|      15.6|      15|    0.05|      Ravioli Angelo|          5| 24 - 250 g pkgs.|      19.5|            36|             0|           20|           0|Pasta Buttini s.r.l.|    Giovanni Giudici| Order Administrator|Via dei Gelsomini...|    Salerno|    null|      84100|    Italy| (089) 6547665| (089) 6547667|                null|\n",
            "+-----------+----------+--------+-----------+-----------+-------------------+-------------------+-------------------+--------+-------+--------------------+------------------+--------------+-----------+----------------+------------+----------+--------+--------+--------------------+-----------+-----------------+----------+--------------+--------------+-------------+------------+--------------------+--------------------+--------------------+--------------------+-----------+--------+-----------+---------+--------------+--------------+--------------------+\n",
            "only showing top 10 rows\n",
            "\n"
          ]
        }
      ]
    },
    {
      "cell_type": "code",
      "source": [
        "df_denormalized.show(2)\n",
        "df_denormalized.printSchema()\n",
        "df_denormalized.dtypes"
      ],
      "metadata": {
        "colab": {
          "base_uri": "https://localhost:8080/"
        },
        "id": "mi4RKL_ll9eR",
        "outputId": "278472c4-e5e1-48bd-e780-2829eabbc85c"
      },
      "execution_count": 84,
      "outputs": [
        {
          "output_type": "stream",
          "name": "stdout",
          "text": [
            "+-----------+----------+--------+-----------+-----------+-------------------+-------------------+-------------------+--------+-------+--------------------+------------------+---------+-----------+----------------+------------+----------+--------+--------+--------------------+-----------+-----------------+----------+--------------+--------------+-------------+------------+--------------------+------------+--------------------+--------------------+---------+------+-----------+---------+------------+------------+--------------+\n",
            "|supplier_id|product_id|order_id|customer_id|employee_id|         order_date|      required_date|       shipped_date|ship_via|freight|           ship_name|      ship_address|ship_city|ship_region|ship_postal_code|ship_country|unit_price|quantity|discount|        product_name|category_id|quantity_per_unit|unit_price|units_in_stock|units_on_order|reorder_level|discontinued|        company_name|contact_name|       contact_title|             address|     city|region|postal_code|  country|       phone|         fax|      homepage|\n",
            "+-----------+----------+--------+-----------+-----------+-------------------+-------------------+-------------------+--------+-------+--------------------+------------------+---------+-----------+----------------+------------+----------+--------+--------+--------------------+-----------+-----------------+----------+--------------+--------------+-------------+------------+--------------------+------------+--------------------+--------------------+---------+------+-----------+---------+------------+------------+--------------+\n",
            "|         14|        72|   10248|      VINET|          5|1996-07-04 00:00:00|1996-08-01 00:00:00|1996-07-16 00:00:00|       3|  32.38|Vins et alcools C...|59 rue de l'Abbaye|    Reims|       null|           51100|      France|      34.8|       5|     0.0|Mozzarella di Gio...|          4| 24 - 200 g pkgs.|      34.8|            14|             0|            0|           0|Formaggi Fortini ...|  Elio Rossi|Sales Representative|     Viale Dante, 75|  Ravenna|  null|      48100|    Italy|(0544) 60323|(0544) 60603|#FORMAGGI.HTM#|\n",
            "|         20|        42|   10248|      VINET|          5|1996-07-04 00:00:00|1996-08-01 00:00:00|1996-07-16 00:00:00|       3|  32.38|Vins et alcools C...|59 rue de l'Abbaye|    Reims|       null|           51100|      France|       9.8|      10|     0.0|Singaporean Hokki...|          5|  32 - 1 kg pkgs.|      14.0|            26|             0|            0|           1|        Leka Trading|Chandra Leka|               Owner|471 Serangoon Loo...|Singapore|  null|       0512|Singapore|    555-8787|        null|          null|\n",
            "+-----------+----------+--------+-----------+-----------+-------------------+-------------------+-------------------+--------+-------+--------------------+------------------+---------+-----------+----------------+------------+----------+--------+--------+--------------------+-----------+-----------------+----------+--------------+--------------+-------------+------------+--------------------+------------+--------------------+--------------------+---------+------+-----------+---------+------------+------------+--------------+\n",
            "only showing top 2 rows\n",
            "\n",
            "root\n",
            " |-- supplier_id: string (nullable = true)\n",
            " |-- product_id: string (nullable = true)\n",
            " |-- order_id: string (nullable = true)\n",
            " |-- customer_id: string (nullable = true)\n",
            " |-- employee_id: string (nullable = true)\n",
            " |-- order_date: timestamp (nullable = true)\n",
            " |-- required_date: timestamp (nullable = true)\n",
            " |-- shipped_date: timestamp (nullable = true)\n",
            " |-- ship_via: integer (nullable = true)\n",
            " |-- freight: double (nullable = true)\n",
            " |-- ship_name: string (nullable = true)\n",
            " |-- ship_address: string (nullable = true)\n",
            " |-- ship_city: string (nullable = true)\n",
            " |-- ship_region: string (nullable = true)\n",
            " |-- ship_postal_code: string (nullable = true)\n",
            " |-- ship_country: string (nullable = true)\n",
            " |-- unit_price: double (nullable = true)\n",
            " |-- quantity: integer (nullable = true)\n",
            " |-- discount: double (nullable = true)\n",
            " |-- product_name: string (nullable = true)\n",
            " |-- category_id: string (nullable = true)\n",
            " |-- quantity_per_unit: string (nullable = true)\n",
            " |-- unit_price: double (nullable = true)\n",
            " |-- units_in_stock: integer (nullable = true)\n",
            " |-- units_on_order: integer (nullable = true)\n",
            " |-- reorder_level: integer (nullable = true)\n",
            " |-- discontinued: integer (nullable = true)\n",
            " |-- company_name: string (nullable = true)\n",
            " |-- contact_name: string (nullable = true)\n",
            " |-- contact_title: string (nullable = true)\n",
            " |-- address: string (nullable = true)\n",
            " |-- city: string (nullable = true)\n",
            " |-- region: string (nullable = true)\n",
            " |-- postal_code: string (nullable = true)\n",
            " |-- country: string (nullable = true)\n",
            " |-- phone: string (nullable = true)\n",
            " |-- fax: string (nullable = true)\n",
            " |-- homepage: string (nullable = true)\n",
            "\n"
          ]
        },
        {
          "output_type": "execute_result",
          "data": {
            "text/plain": [
              "[('supplier_id', 'string'),\n",
              " ('product_id', 'string'),\n",
              " ('order_id', 'string'),\n",
              " ('customer_id', 'string'),\n",
              " ('employee_id', 'string'),\n",
              " ('order_date', 'timestamp'),\n",
              " ('required_date', 'timestamp'),\n",
              " ('shipped_date', 'timestamp'),\n",
              " ('ship_via', 'int'),\n",
              " ('freight', 'double'),\n",
              " ('ship_name', 'string'),\n",
              " ('ship_address', 'string'),\n",
              " ('ship_city', 'string'),\n",
              " ('ship_region', 'string'),\n",
              " ('ship_postal_code', 'string'),\n",
              " ('ship_country', 'string'),\n",
              " ('unit_price', 'double'),\n",
              " ('quantity', 'int'),\n",
              " ('discount', 'double'),\n",
              " ('product_name', 'string'),\n",
              " ('category_id', 'string'),\n",
              " ('quantity_per_unit', 'string'),\n",
              " ('unit_price', 'double'),\n",
              " ('units_in_stock', 'int'),\n",
              " ('units_on_order', 'int'),\n",
              " ('reorder_level', 'int'),\n",
              " ('discontinued', 'int'),\n",
              " ('company_name', 'string'),\n",
              " ('contact_name', 'string'),\n",
              " ('contact_title', 'string'),\n",
              " ('address', 'string'),\n",
              " ('city', 'string'),\n",
              " ('region', 'string'),\n",
              " ('postal_code', 'string'),\n",
              " ('country', 'string'),\n",
              " ('phone', 'string'),\n",
              " ('fax', 'string'),\n",
              " ('homepage', 'string')]"
            ]
          },
          "metadata": {},
          "execution_count": 84
        }
      ]
    },
    {
      "cell_type": "code",
      "source": [
        "net_revenue_formula = (df_order_details[\"quantity\"]*(df_order_details[\"unit_price\"]) - (1-df_order_details[\"discount\"]))\n",
        "df_net_revnue_unsorted = df_denormalized.groupBy(\"supplier_id\",(\"contact_name\"),year(\"order_date\").alias(\"Year\")).agg(round(sum(net_revenue_formula),2).alias(\"Net_revenue\"))"
      ],
      "metadata": {
        "id": "9S85VvUhFSo-"
      },
      "execution_count": 148,
      "outputs": []
    },
    {
      "cell_type": "code",
      "source": [
        "df_net_revnue_unsorted.orderBy(\"Supplier_id\",\"contact_name\",\"Year\").show(10)"
      ],
      "metadata": {
        "colab": {
          "base_uri": "https://localhost:8080/"
        },
        "id": "NOndQODDHePE",
        "outputId": "1c70bc06-4e0e-4925-cd32-364d7a9f9fc8"
      },
      "execution_count": 149,
      "outputs": [
        {
          "output_type": "stream",
          "name": "stdout",
          "text": [
            "+-----------+----------------+----+-----------+\n",
            "|supplier_id|    contact_name|Year|Net_revenue|\n",
            "+-----------+----------------+----+-----------+\n",
            "|          1|Charlotte Cooper|1996|    3667.25|\n",
            "|          1|Charlotte Cooper|1997|     9336.4|\n",
            "|          1|Charlotte Cooper|1998|    8584.25|\n",
            "|         10|     Carlos Diaz|1996|     558.05|\n",
            "|         10|     Carlos Diaz|1997|     1739.0|\n",
            "|         10|     Carlos Diaz|1998|    2437.45|\n",
            "|         11|   Petra Winkler|1996|     6174.1|\n",
            "|         11|   Petra Winkler|1997|   23834.17|\n",
            "|         11|   Petra Winkler|1998|   10754.18|\n",
            "|         12|     Martin Bein|1996|    21757.2|\n",
            "+-----------+----------------+----+-----------+\n",
            "only showing top 10 rows\n",
            "\n"
          ]
        }
      ]
    },
    {
      "cell_type": "code",
      "source": [
        "data = df_net_revnue_unsorted.orderBy(\"Supplier_id\",\"contact_name\",\"Year\")"
      ],
      "metadata": {
        "id": "HLHo1EFhRIQ0"
      },
      "execution_count": 150,
      "outputs": []
    },
    {
      "cell_type": "code",
      "source": [
        "df = data.selectExpr(\"supplier_id as Supplier_id\",\"contact_name as Supplier_name\",\"Year\",\"Net_revenue\")"
      ],
      "metadata": {
        "id": "kYEJLfx_pFBj"
      },
      "execution_count": 151,
      "outputs": []
    },
    {
      "cell_type": "code",
      "source": [
        "df.show(20)"
      ],
      "metadata": {
        "colab": {
          "base_uri": "https://localhost:8080/"
        },
        "id": "7VT330dtpJYm",
        "outputId": "04ca5e9b-05c0-4eb8-d47a-8f2df0242b3b"
      },
      "execution_count": 152,
      "outputs": [
        {
          "output_type": "stream",
          "name": "stdout",
          "text": [
            "+-----------+----------------+----+-----------+\n",
            "|Supplier_id|   Supplier_name|Year|Net_revenue|\n",
            "+-----------+----------------+----+-----------+\n",
            "|          1|Charlotte Cooper|1996|    3667.25|\n",
            "|          1|Charlotte Cooper|1997|     9336.4|\n",
            "|          1|Charlotte Cooper|1998|    8584.25|\n",
            "|         10|     Carlos Diaz|1996|     558.05|\n",
            "|         10|     Carlos Diaz|1997|     1739.0|\n",
            "|         10|     Carlos Diaz|1998|    2437.45|\n",
            "|         11|   Petra Winkler|1996|     6174.1|\n",
            "|         11|   Petra Winkler|1997|   23834.17|\n",
            "|         11|   Petra Winkler|1998|   10754.18|\n",
            "|         12|     Martin Bein|1996|    21757.2|\n",
            "|         12|     Martin Bein|1997|   69242.53|\n",
            "|         12|     Martin Bein|1998|    64776.7|\n",
            "|         13|   Sven Petersen|1996|     3140.0|\n",
            "|         13|   Sven Petersen|1997|     6540.1|\n",
            "|         13|   Sven Petersen|1998|    5066.04|\n",
            "|         14|      Elio Rossi|1996|    13006.9|\n",
            "|         14|      Elio Rossi|1997|    22870.9|\n",
            "|         14|      Elio Rossi|1998|    15105.9|\n",
            "|         15|    Beate Vileid|1996|     9149.9|\n",
            "|         15|    Beate Vileid|1997|    24953.7|\n",
            "+-----------+----------------+----+-----------+\n",
            "only showing top 20 rows\n",
            "\n"
          ]
        }
      ]
    },
    {
      "cell_type": "code",
      "source": [
        ""
      ],
      "metadata": {
        "id": "us3f4uuuzoCY"
      },
      "execution_count": null,
      "outputs": []
    }
  ]
}