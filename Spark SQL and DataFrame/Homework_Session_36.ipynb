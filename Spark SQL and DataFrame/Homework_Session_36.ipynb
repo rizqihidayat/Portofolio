{
  "nbformat": 4,
  "nbformat_minor": 0,
  "metadata": {
    "colab": {
      "name": "Homework_Session_36",
      "provenance": []
    },
    "kernelspec": {
      "name": "python3",
      "display_name": "Python 3"
    },
    "language_info": {
      "name": "python"
    }
  },
  "cells": [
    {
      "cell_type": "code",
      "execution_count": 1,
      "metadata": {
        "colab": {
          "base_uri": "https://localhost:8080/"
        },
        "id": "-Ky4-zt3JBby",
        "outputId": "cd939434-cb94-40c2-a8d6-712f68aaa34f"
      },
      "outputs": [
        {
          "output_type": "stream",
          "name": "stdout",
          "text": [
            "Collecting pyspark\n",
            "  Downloading pyspark-3.2.1.tar.gz (281.4 MB)\n",
            "\u001b[K     |████████████████████████████████| 281.4 MB 35 kB/s \n",
            "\u001b[?25hCollecting py4j==0.10.9.3\n",
            "  Downloading py4j-0.10.9.3-py2.py3-none-any.whl (198 kB)\n",
            "\u001b[K     |████████████████████████████████| 198 kB 49.7 MB/s \n",
            "\u001b[?25hBuilding wheels for collected packages: pyspark\n",
            "  Building wheel for pyspark (setup.py) ... \u001b[?25l\u001b[?25hdone\n",
            "  Created wheel for pyspark: filename=pyspark-3.2.1-py2.py3-none-any.whl size=281853642 sha256=29bfda240db2c3b60002177c1b4a8fe15c9e53500d05467603e1a0838c49ac60\n",
            "  Stored in directory: /root/.cache/pip/wheels/9f/f5/07/7cd8017084dce4e93e84e92efd1e1d5334db05f2e83bcef74f\n",
            "Successfully built pyspark\n",
            "Installing collected packages: py4j, pyspark\n",
            "Successfully installed py4j-0.10.9.3 pyspark-3.2.1\n"
          ]
        }
      ],
      "source": [
        "# install java\n",
        "!apt-get install openjdk-8-jdk-headless -qq > /dev/null\n",
        "\n",
        "# install spark (change the version number if needed)\n",
        "!wget -q https://archive.apache.org/dist/spark/spark-3.0.0/spark-3.0.0-bin-hadoop3.2.tgz\n",
        "\n",
        "# unzip the spark file to the current folder\n",
        "!tar xf spark-3.0.0-bin-hadoop3.2.tgz\n",
        "\n",
        "# set your spark folder to your system path environment. \n",
        "import os\n",
        "os.environ[\"JAVA_HOME\"] = \"/usr/lib/jvm/java-8-openjdk-amd64\"\n",
        "os.environ[\"SPARK_HOME\"] = \"/content/spark-3.0.0-bin-hadoop3.2\"\n",
        "\n",
        "# install findspark using pip\n",
        "!pip install -q findspark\n",
        "!pip install pyspark"
      ]
    },
    {
      "cell_type": "code",
      "source": [
        "import findspark\n",
        "findspark.init()\n",
        "from pyspark.sql import SparkSession\n",
        "\n",
        "spark = SparkSession.builder.master(\"local[*]\").getOrCreate()"
      ],
      "metadata": {
        "id": "5kBb0Rh7JCwO"
      },
      "execution_count": 2,
      "outputs": []
    },
    {
      "cell_type": "code",
      "source": [
        "df3 = spark.read.options(inferSchema='True', delimiter=';') \\\n",
        "  .csv(\"retail-data-full.csv\")"
      ],
      "metadata": {
        "id": "13nl00n-SHHv"
      },
      "execution_count": 7,
      "outputs": []
    },
    {
      "cell_type": "code",
      "source": [
        "df3.show(19)"
      ],
      "metadata": {
        "colab": {
          "base_uri": "https://localhost:8080/"
        },
        "id": "T-fKq_zlSaF5",
        "outputId": "eb661b64-8f65-4c8f-919b-9ce9aec7f167"
      },
      "execution_count": 8,
      "outputs": [
        {
          "output_type": "stream",
          "name": "stdout",
          "text": [
            "+------+------+--------------------+---+-------------------+----+-------+--------------+\n",
            "|   _c0|   _c1|                 _c2|_c3|                _c4| _c5|    _c6|           _c7|\n",
            "+------+------+--------------------+---+-------------------+----+-------+--------------+\n",
            "|536365|85123A|WHITE HANGING HEA...|  6|2010-12-01 08:26:00|2.55|17850.0|United Kingdom|\n",
            "|536365| 71053| WHITE METAL LANTERN|  6|2010-12-01 08:26:00|3.39|17850.0|United Kingdom|\n",
            "|536365|84406B|CREAM CUPID HEART...|  8|2010-12-01 08:26:00|2.75|17850.0|United Kingdom|\n",
            "|536365|84029G|KNITTED UNION FLA...|  6|2010-12-01 08:26:00|3.39|17850.0|United Kingdom|\n",
            "|536365|84029E|RED WOOLLY HOTTIE...|  6|2010-12-01 08:26:00|3.39|17850.0|United Kingdom|\n",
            "|536365| 22752|SET 7 BABUSHKA NE...|  2|2010-12-01 08:26:00|7.65|17850.0|United Kingdom|\n",
            "|536365| 21730|GLASS STAR FROSTE...|  6|2010-12-01 08:26:00|4.25|17850.0|United Kingdom|\n",
            "|536366| 22633|HAND WARMER UNION...|  6|2010-12-01 08:28:00|1.85|17850.0|United Kingdom|\n",
            "|536366| 22632|HAND WARMER RED P...|  6|2010-12-01 08:28:00|1.85|17850.0|United Kingdom|\n",
            "|536367| 84879|ASSORTED COLOUR B...| 32|2010-12-01 08:34:00|1.69|13047.0|United Kingdom|\n",
            "|536367| 22745|POPPY'S PLAYHOUSE...|  6|2010-12-01 08:34:00| 2.1|13047.0|United Kingdom|\n",
            "|536367| 22748|POPPY'S PLAYHOUSE...|  6|2010-12-01 08:34:00| 2.1|13047.0|United Kingdom|\n",
            "|536367| 22749|FELTCRAFT PRINCES...|  8|2010-12-01 08:34:00|3.75|13047.0|United Kingdom|\n",
            "|536367| 22310|IVORY KNITTED MUG...|  6|2010-12-01 08:34:00|1.65|13047.0|United Kingdom|\n",
            "|536367| 84969|BOX OF 6 ASSORTED...|  6|2010-12-01 08:34:00|4.25|13047.0|United Kingdom|\n",
            "|536367| 22623|BOX OF VINTAGE JI...|  3|2010-12-01 08:34:00|4.95|13047.0|United Kingdom|\n",
            "|536367| 22622|BOX OF VINTAGE AL...|  2|2010-12-01 08:34:00|9.95|13047.0|United Kingdom|\n",
            "|536367| 21754|HOME BUILDING BLO...|  3|2010-12-01 08:34:00|5.95|13047.0|United Kingdom|\n",
            "|536367| 21755|LOVE BUILDING BLO...|  3|2010-12-01 08:34:00|5.95|13047.0|United Kingdom|\n",
            "+------+------+--------------------+---+-------------------+----+-------+--------------+\n",
            "only showing top 19 rows\n",
            "\n"
          ]
        }
      ]
    },
    {
      "cell_type": "code",
      "source": [
        "df = df3.selectExpr(\"_c0 as InvoiceNo\",\"_c1 as StockCode\",\"_c2 as Description\",\"_c3 as Quantity\", \"_c4 as InvoiceData\",\"_c5 as Amount\",\"_c6 as CustomerID\",\"_c7 as Country\")"
      ],
      "metadata": {
        "id": "DHCCa0AQSfb0"
      },
      "execution_count": 9,
      "outputs": []
    },
    {
      "cell_type": "code",
      "source": [
        "df.show(10)"
      ],
      "metadata": {
        "colab": {
          "base_uri": "https://localhost:8080/"
        },
        "id": "dxHlVjhsUCcx",
        "outputId": "42c31541-6b4f-4262-d82d-e0b9d3e2a225"
      },
      "execution_count": 10,
      "outputs": [
        {
          "output_type": "stream",
          "name": "stdout",
          "text": [
            "+---------+---------+--------------------+--------+-------------------+------+----------+--------------+\n",
            "|InvoiceNo|StockCode|         Description|Quantity|        InvoiceData|Amount|CustomerID|       Country|\n",
            "+---------+---------+--------------------+--------+-------------------+------+----------+--------------+\n",
            "|   536365|   85123A|WHITE HANGING HEA...|       6|2010-12-01 08:26:00|  2.55|   17850.0|United Kingdom|\n",
            "|   536365|    71053| WHITE METAL LANTERN|       6|2010-12-01 08:26:00|  3.39|   17850.0|United Kingdom|\n",
            "|   536365|   84406B|CREAM CUPID HEART...|       8|2010-12-01 08:26:00|  2.75|   17850.0|United Kingdom|\n",
            "|   536365|   84029G|KNITTED UNION FLA...|       6|2010-12-01 08:26:00|  3.39|   17850.0|United Kingdom|\n",
            "|   536365|   84029E|RED WOOLLY HOTTIE...|       6|2010-12-01 08:26:00|  3.39|   17850.0|United Kingdom|\n",
            "|   536365|    22752|SET 7 BABUSHKA NE...|       2|2010-12-01 08:26:00|  7.65|   17850.0|United Kingdom|\n",
            "|   536365|    21730|GLASS STAR FROSTE...|       6|2010-12-01 08:26:00|  4.25|   17850.0|United Kingdom|\n",
            "|   536366|    22633|HAND WARMER UNION...|       6|2010-12-01 08:28:00|  1.85|   17850.0|United Kingdom|\n",
            "|   536366|    22632|HAND WARMER RED P...|       6|2010-12-01 08:28:00|  1.85|   17850.0|United Kingdom|\n",
            "|   536367|    84879|ASSORTED COLOUR B...|      32|2010-12-01 08:34:00|  1.69|   13047.0|United Kingdom|\n",
            "+---------+---------+--------------------+--------+-------------------+------+----------+--------------+\n",
            "only showing top 10 rows\n",
            "\n"
          ]
        }
      ]
    },
    {
      "cell_type": "code",
      "source": [
        "import pyspark\n",
        "from pyspark.sql import SparkSession\n",
        "from pyspark.sql.types import StructType,StructField, StringType, IntegerType \n",
        "from pyspark.sql.types import ArrayType, DoubleType, BooleanType\n",
        "from pyspark.sql.functions import col,array_contains"
      ],
      "metadata": {
        "id": "2ogun1u3XhlO"
      },
      "execution_count": 22,
      "outputs": []
    },
    {
      "cell_type": "code",
      "source": [
        "spark = SparkSession.builder.appName(\"RetailData\").getOrCreate()\n",
        "\n",
        "schema = StructType() \\\n",
        "      .add(\"InvoiceNo\",StringType(),True) \\\n",
        "      .add(\"StockCode\",StringType(),True) \\\n",
        "      .add(\"Description\",StringType(),True) \\\n",
        "      .add(\"Quantity\",IntegerType(), True) \\\n",
        "      .add(\"Invoicedata\", StringType(), True)\\\n",
        "      .add(\"Amount\",StringType(),True)\\\n",
        "      .add(\"CustomerID\",StringType(),True)\\\n",
        "      .add(\"Country\",StringType(),True)\n",
        "\n",
        "df_with_schema = spark.read.format(\"csv\") \\\n",
        "      .option(\"header\", True) \\\n",
        "      .schema(schema) \\\n",
        "      .load(\"retail-data-full.csv\" ,delimiter = ';')\n",
        "df_with_schema.printSchema()"
      ],
      "metadata": {
        "colab": {
          "base_uri": "https://localhost:8080/"
        },
        "id": "ZAbrCPw1UGI2",
        "outputId": "b62b298f-4e5d-4998-970f-e5ea106cd973"
      },
      "execution_count": 44,
      "outputs": [
        {
          "output_type": "stream",
          "name": "stdout",
          "text": [
            "root\n",
            " |-- InvoiceNo: string (nullable = true)\n",
            " |-- StockCode: string (nullable = true)\n",
            " |-- Description: string (nullable = true)\n",
            " |-- Quantity: integer (nullable = true)\n",
            " |-- Invoicedata: string (nullable = true)\n",
            " |-- Amount: string (nullable = true)\n",
            " |-- CustomerID: string (nullable = true)\n",
            " |-- Country: string (nullable = true)\n",
            "\n"
          ]
        }
      ]
    },
    {
      "cell_type": "code",
      "source": [
        "df_with_schema.show(10)"
      ],
      "metadata": {
        "colab": {
          "base_uri": "https://localhost:8080/"
        },
        "id": "ArX8xtntZqlr",
        "outputId": "2079ef2c-904a-43b6-ec88-d5eb05481959"
      },
      "execution_count": 45,
      "outputs": [
        {
          "output_type": "stream",
          "name": "stdout",
          "text": [
            "+---------+---------+--------------------+--------+-------------------+------+----------+--------------+\n",
            "|InvoiceNo|StockCode|         Description|Quantity|        Invoicedata|Amount|CustomerID|       Country|\n",
            "+---------+---------+--------------------+--------+-------------------+------+----------+--------------+\n",
            "|   536365|    71053| WHITE METAL LANTERN|       6|2010-12-01 08:26:00|  3.39|   17850.0|United Kingdom|\n",
            "|   536365|   84406B|CREAM CUPID HEART...|       8|2010-12-01 08:26:00|  2.75|   17850.0|United Kingdom|\n",
            "|   536365|   84029G|KNITTED UNION FLA...|       6|2010-12-01 08:26:00|  3.39|   17850.0|United Kingdom|\n",
            "|   536365|   84029E|RED WOOLLY HOTTIE...|       6|2010-12-01 08:26:00|  3.39|   17850.0|United Kingdom|\n",
            "|   536365|    22752|SET 7 BABUSHKA NE...|       2|2010-12-01 08:26:00|  7.65|   17850.0|United Kingdom|\n",
            "|   536365|    21730|GLASS STAR FROSTE...|       6|2010-12-01 08:26:00|  4.25|   17850.0|United Kingdom|\n",
            "|   536366|    22633|HAND WARMER UNION...|       6|2010-12-01 08:28:00|  1.85|   17850.0|United Kingdom|\n",
            "|   536366|    22632|HAND WARMER RED P...|       6|2010-12-01 08:28:00|  1.85|   17850.0|United Kingdom|\n",
            "|   536367|    84879|ASSORTED COLOUR B...|      32|2010-12-01 08:34:00|  1.69|   13047.0|United Kingdom|\n",
            "|   536367|    22745|POPPY'S PLAYHOUSE...|       6|2010-12-01 08:34:00|   2.1|   13047.0|United Kingdom|\n",
            "+---------+---------+--------------------+--------+-------------------+------+----------+--------------+\n",
            "only showing top 10 rows\n",
            "\n"
          ]
        }
      ]
    },
    {
      "cell_type": "code",
      "source": [
        "df_with_schema.select(\"InvoiceData\").show(10, truncate = False)"
      ],
      "metadata": {
        "colab": {
          "base_uri": "https://localhost:8080/"
        },
        "id": "uTnhAey0U0E3",
        "outputId": "4fff2643-7536-4ce7-de4e-1c83e6d325f5"
      },
      "execution_count": 68,
      "outputs": [
        {
          "output_type": "stream",
          "name": "stdout",
          "text": [
            "+-------------------+\n",
            "|InvoiceData        |\n",
            "+-------------------+\n",
            "|2010-12-01 08:26:00|\n",
            "|2010-12-01 08:26:00|\n",
            "|2010-12-01 08:26:00|\n",
            "|2010-12-01 08:26:00|\n",
            "|2010-12-01 08:26:00|\n",
            "|2010-12-01 08:26:00|\n",
            "|2010-12-01 08:28:00|\n",
            "|2010-12-01 08:28:00|\n",
            "|2010-12-01 08:34:00|\n",
            "|2010-12-01 08:34:00|\n",
            "+-------------------+\n",
            "only showing top 10 rows\n",
            "\n"
          ]
        }
      ]
    },
    {
      "cell_type": "code",
      "source": [
        "results = df_with_schema"
      ],
      "metadata": {
        "id": "yFrLr70zdjxh"
      },
      "execution_count": 69,
      "outputs": []
    },
    {
      "cell_type": "code",
      "source": [
        "print(results)\n",
        "results.show(10)"
      ],
      "metadata": {
        "colab": {
          "base_uri": "https://localhost:8080/"
        },
        "id": "AAjiiWpjdwmX",
        "outputId": "c25c8344-55b1-480f-e3d1-b4e92cfad218"
      },
      "execution_count": 71,
      "outputs": [
        {
          "output_type": "stream",
          "name": "stdout",
          "text": [
            "DataFrame[InvoiceNo: string, StockCode: string, Description: string, Quantity: int, Invoicedata: string, Amount: string, CustomerID: string, Country: string]\n",
            "+---------+---------+--------------------+--------+-------------------+------+----------+--------------+\n",
            "|InvoiceNo|StockCode|         Description|Quantity|        Invoicedata|Amount|CustomerID|       Country|\n",
            "+---------+---------+--------------------+--------+-------------------+------+----------+--------------+\n",
            "|   536365|    71053| WHITE METAL LANTERN|       6|2010-12-01 08:26:00|  3.39|   17850.0|United Kingdom|\n",
            "|   536365|   84406B|CREAM CUPID HEART...|       8|2010-12-01 08:26:00|  2.75|   17850.0|United Kingdom|\n",
            "|   536365|   84029G|KNITTED UNION FLA...|       6|2010-12-01 08:26:00|  3.39|   17850.0|United Kingdom|\n",
            "|   536365|   84029E|RED WOOLLY HOTTIE...|       6|2010-12-01 08:26:00|  3.39|   17850.0|United Kingdom|\n",
            "|   536365|    22752|SET 7 BABUSHKA NE...|       2|2010-12-01 08:26:00|  7.65|   17850.0|United Kingdom|\n",
            "|   536365|    21730|GLASS STAR FROSTE...|       6|2010-12-01 08:26:00|  4.25|   17850.0|United Kingdom|\n",
            "|   536366|    22633|HAND WARMER UNION...|       6|2010-12-01 08:28:00|  1.85|   17850.0|United Kingdom|\n",
            "|   536366|    22632|HAND WARMER RED P...|       6|2010-12-01 08:28:00|  1.85|   17850.0|United Kingdom|\n",
            "|   536367|    84879|ASSORTED COLOUR B...|      32|2010-12-01 08:34:00|  1.69|   13047.0|United Kingdom|\n",
            "|   536367|    22745|POPPY'S PLAYHOUSE...|       6|2010-12-01 08:34:00|   2.1|   13047.0|United Kingdom|\n",
            "+---------+---------+--------------------+--------+-------------------+------+----------+--------------+\n",
            "only showing top 10 rows\n",
            "\n"
          ]
        }
      ]
    }
  ]
}