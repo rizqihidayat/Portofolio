{
 "cells": [
  {
   "cell_type": "code",
   "execution_count": 1,
   "id": "97afc0c6",
   "metadata": {},
   "outputs": [],
   "source": [
    "import warnings\n",
    "from sklearn.exceptions import DataConversionWarning\n",
    "warnings.filterwarnings(action='error', category=DataConversionWarning)\n",
    "\n",
    "import pandas as pd\n",
    "import psycopg2 as pg\n",
    "import numpy as np\n",
    "import datetime\n",
    "import matplotlib.pyplot as plt\n",
    "from sklearn.cluster import KMeans\n",
    "import seaborn as sns\n",
    "from mpl_toolkits.mplot3d import Axes3D\n",
    "from sklearn.metrics import silhouette_samples,silhouette_score"
   ]
  },
  {
   "cell_type": "code",
   "execution_count": 2,
   "id": "8b9213b7",
   "metadata": {},
   "outputs": [],
   "source": [
    "# set up configuration\n",
    "host = \"localhost\"\n",
    "port = \"5432\"\n",
    "database = \"postgres\"\n",
    "user = \"postgres\"\n",
    "password = \"kagome235\"\n",
    "setting = \"dbname=\" + database + \" user=\" + user + \" host=\" + host + \" port=\" + port + \" password=\" + password\n",
    "engine = pg.connect(setting)"
   ]
  },
  {
   "cell_type": "code",
   "execution_count": 3,
   "id": "49966c68",
   "metadata": {},
   "outputs": [
    {
     "name": "stderr",
     "output_type": "stream",
     "text": [
      "C:\\Users\\mamad\\AppData\\Local\\Programs\\Python\\Python310\\lib\\site-packages\\pandas\\io\\sql.py:761: UserWarning: pandas only support SQLAlchemy connectable(engine/connection) ordatabase string URI or sqlite3 DBAPI2 connectionother DBAPI2 objects are not tested, please consider using SQLAlchemy\n",
      "  warnings.warn(\n"
     ]
    }
   ],
   "source": [
    "query = f\"\"\"\n",
    "\tselect\n",
    "        order_id\n",
    "        , price\n",
    "        , freight_value\n",
    "\tfrom \n",
    "\t\tolist_order_items_dataset_csv ooidc \n",
    "    \"\"\"\n",
    "df_read = pd.read_sql(query, con=engine)"
   ]
  },
  {
   "cell_type": "code",
   "execution_count": 4,
   "id": "57d62cdd",
   "metadata": {},
   "outputs": [
    {
     "data": {
      "text/html": [
       "<div>\n",
       "<style scoped>\n",
       "    .dataframe tbody tr th:only-of-type {\n",
       "        vertical-align: middle;\n",
       "    }\n",
       "\n",
       "    .dataframe tbody tr th {\n",
       "        vertical-align: top;\n",
       "    }\n",
       "\n",
       "    .dataframe thead th {\n",
       "        text-align: right;\n",
       "    }\n",
       "</style>\n",
       "<table border=\"1\" class=\"dataframe\">\n",
       "  <thead>\n",
       "    <tr style=\"text-align: right;\">\n",
       "      <th></th>\n",
       "      <th>order_id</th>\n",
       "      <th>price</th>\n",
       "      <th>freight_value</th>\n",
       "    </tr>\n",
       "  </thead>\n",
       "  <tbody>\n",
       "    <tr>\n",
       "      <th>0</th>\n",
       "      <td>00010242fe8c5a6d1ba2dd792cb16214</td>\n",
       "      <td>58.90</td>\n",
       "      <td>13.29</td>\n",
       "    </tr>\n",
       "    <tr>\n",
       "      <th>1</th>\n",
       "      <td>00018f77f2f0320c557190d7a144bdd3</td>\n",
       "      <td>239.90</td>\n",
       "      <td>19.93</td>\n",
       "    </tr>\n",
       "    <tr>\n",
       "      <th>2</th>\n",
       "      <td>000229ec398224ef6ca0657da4fc703e</td>\n",
       "      <td>199.00</td>\n",
       "      <td>17.87</td>\n",
       "    </tr>\n",
       "    <tr>\n",
       "      <th>3</th>\n",
       "      <td>00024acbcdf0a6daa1e931b038114c75</td>\n",
       "      <td>12.99</td>\n",
       "      <td>12.79</td>\n",
       "    </tr>\n",
       "    <tr>\n",
       "      <th>4</th>\n",
       "      <td>00042b26cf59d7ce69dfabb4e55b4fd9</td>\n",
       "      <td>199.90</td>\n",
       "      <td>18.14</td>\n",
       "    </tr>\n",
       "    <tr>\n",
       "      <th>...</th>\n",
       "      <td>...</td>\n",
       "      <td>...</td>\n",
       "      <td>...</td>\n",
       "    </tr>\n",
       "    <tr>\n",
       "      <th>112645</th>\n",
       "      <td>fffc94f6ce00a00581880bf54a75a037</td>\n",
       "      <td>299.99</td>\n",
       "      <td>43.41</td>\n",
       "    </tr>\n",
       "    <tr>\n",
       "      <th>112646</th>\n",
       "      <td>fffcd46ef2263f404302a634eb57f7eb</td>\n",
       "      <td>350.00</td>\n",
       "      <td>36.53</td>\n",
       "    </tr>\n",
       "    <tr>\n",
       "      <th>112647</th>\n",
       "      <td>fffce4705a9662cd70adb13d4a31832d</td>\n",
       "      <td>99.90</td>\n",
       "      <td>16.95</td>\n",
       "    </tr>\n",
       "    <tr>\n",
       "      <th>112648</th>\n",
       "      <td>fffe18544ffabc95dfada21779c9644f</td>\n",
       "      <td>55.99</td>\n",
       "      <td>8.72</td>\n",
       "    </tr>\n",
       "    <tr>\n",
       "      <th>112649</th>\n",
       "      <td>fffe41c64501cc87c801fd61db3f6244</td>\n",
       "      <td>43.00</td>\n",
       "      <td>12.79</td>\n",
       "    </tr>\n",
       "  </tbody>\n",
       "</table>\n",
       "<p>112650 rows × 3 columns</p>\n",
       "</div>"
      ],
      "text/plain": [
       "                                order_id   price  freight_value\n",
       "0       00010242fe8c5a6d1ba2dd792cb16214   58.90          13.29\n",
       "1       00018f77f2f0320c557190d7a144bdd3  239.90          19.93\n",
       "2       000229ec398224ef6ca0657da4fc703e  199.00          17.87\n",
       "3       00024acbcdf0a6daa1e931b038114c75   12.99          12.79\n",
       "4       00042b26cf59d7ce69dfabb4e55b4fd9  199.90          18.14\n",
       "...                                  ...     ...            ...\n",
       "112645  fffc94f6ce00a00581880bf54a75a037  299.99          43.41\n",
       "112646  fffcd46ef2263f404302a634eb57f7eb  350.00          36.53\n",
       "112647  fffce4705a9662cd70adb13d4a31832d   99.90          16.95\n",
       "112648  fffe18544ffabc95dfada21779c9644f   55.99           8.72\n",
       "112649  fffe41c64501cc87c801fd61db3f6244   43.00          12.79\n",
       "\n",
       "[112650 rows x 3 columns]"
      ]
     },
     "execution_count": 4,
     "metadata": {},
     "output_type": "execute_result"
    }
   ],
   "source": [
    "df_read"
   ]
  },
  {
   "cell_type": "code",
   "execution_count": 7,
   "id": "0a8fa829",
   "metadata": {},
   "outputs": [
    {
     "data": {
      "image/png": "[encoded data removed]",
      "text/plain": [
       "<Figure size 720x432 with 1 Axes>"
      ]
     },
     "metadata": {
      "needs_background": "light"
     },
     "output_type": "display_data"
    }
   ],
   "source": [
    "plt.figure(figsize=(10,6))\n",
    "plt.title(\"Order Price\")\n",
    "sns.axes_style(\"dark\")\n",
    "sns.violinplot(y=df_read[\"price\"])\n",
    "plt.show()"
   ]
  },
  {
   "cell_type": "code",
   "execution_count": 8,
   "id": "e02909b5",
   "metadata": {},
   "outputs": [
    {
     "data": {
      "image/png": "[encoded data removed]",
      "text/plain": [
       "<Figure size 720x432 with 1 Axes>"
      ]
     },
     "metadata": {
      "needs_background": "light"
     },
     "output_type": "display_data"
    }
   ],
   "source": [
    "plt.figure(figsize=(10,6))\n",
    "plt.title(\"Product Freight Value\")\n",
    "sns.axes_style(\"dark\")\n",
    "sns.violinplot(y=df_read[\"freight_value\"])\n",
    "plt.show()"
   ]
  },
  {
   "cell_type": "code",
   "execution_count": 9,
   "id": "99badd59",
   "metadata": {},
   "outputs": [],
   "source": [
    "orders = df_read.groupby('order_id').count()[1:]['price']"
   ]
  },
  {
   "cell_type": "code",
   "execution_count": 11,
   "id": "b8bd7613",
   "metadata": {},
   "outputs": [],
   "source": [
    "orders = pd.DataFrame(orders).sort_values('price').reset_index()[::-1][:10]"
   ]
  },
  {
   "cell_type": "code",
   "execution_count": 15,
   "id": "542a06ec",
   "metadata": {},
   "outputs": [],
   "source": [
    "df_train = df_read[(df_read.freight_value >=40) & (df_read.price >=40)]"
   ]
  },
  {
   "cell_type": "code",
   "execution_count": 16,
   "id": "af336212",
   "metadata": {},
   "outputs": [
    {
     "data": {
      "text/html": [
       "<div>\n",
       "<style scoped>\n",
       "    .dataframe tbody tr th:only-of-type {\n",
       "        vertical-align: middle;\n",
       "    }\n",
       "\n",
       "    .dataframe tbody tr th {\n",
       "        vertical-align: top;\n",
       "    }\n",
       "\n",
       "    .dataframe thead th {\n",
       "        text-align: right;\n",
       "    }\n",
       "</style>\n",
       "<table border=\"1\" class=\"dataframe\">\n",
       "  <thead>\n",
       "    <tr style=\"text-align: right;\">\n",
       "      <th></th>\n",
       "      <th>order_id</th>\n",
       "      <th>price</th>\n",
       "      <th>freight_value</th>\n",
       "    </tr>\n",
       "  </thead>\n",
       "  <tbody>\n",
       "    <tr>\n",
       "      <th>7</th>\n",
       "      <td>000576fe39319847cbb9d288c5617fa6</td>\n",
       "      <td>810.00</td>\n",
       "      <td>70.75</td>\n",
       "    </tr>\n",
       "    <tr>\n",
       "      <th>22</th>\n",
       "      <td>000f25f4d72195062c040b12dce9a18a</td>\n",
       "      <td>119.99</td>\n",
       "      <td>44.40</td>\n",
       "    </tr>\n",
       "    <tr>\n",
       "      <th>39</th>\n",
       "      <td>0017afd5076e074a48f1f1a4c7bac9c5</td>\n",
       "      <td>809.10</td>\n",
       "      <td>44.29</td>\n",
       "    </tr>\n",
       "    <tr>\n",
       "      <th>59</th>\n",
       "      <td>00254baeb6c932b0a8aeead91fbd02b5</td>\n",
       "      <td>149.90</td>\n",
       "      <td>43.11</td>\n",
       "    </tr>\n",
       "    <tr>\n",
       "      <th>73</th>\n",
       "      <td>002b430ff89b3a24c31a1170acbbedea</td>\n",
       "      <td>199.99</td>\n",
       "      <td>65.56</td>\n",
       "    </tr>\n",
       "    <tr>\n",
       "      <th>...</th>\n",
       "      <td>...</td>\n",
       "      <td>...</td>\n",
       "      <td>...</td>\n",
       "    </tr>\n",
       "    <tr>\n",
       "      <th>112613</th>\n",
       "      <td>ffebd80e3291e811c308365936897efd</td>\n",
       "      <td>129.90</td>\n",
       "      <td>51.20</td>\n",
       "    </tr>\n",
       "    <tr>\n",
       "      <th>112634</th>\n",
       "      <td>fff8287bbae429a99bb7e8c21d151c41</td>\n",
       "      <td>180.00</td>\n",
       "      <td>48.14</td>\n",
       "    </tr>\n",
       "    <tr>\n",
       "      <th>112635</th>\n",
       "      <td>fff8287bbae429a99bb7e8c21d151c41</td>\n",
       "      <td>180.00</td>\n",
       "      <td>48.14</td>\n",
       "    </tr>\n",
       "    <tr>\n",
       "      <th>112637</th>\n",
       "      <td>fffa82886406ccf10c7b4e35c4ff2788</td>\n",
       "      <td>229.90</td>\n",
       "      <td>44.02</td>\n",
       "    </tr>\n",
       "    <tr>\n",
       "      <th>112645</th>\n",
       "      <td>fffc94f6ce00a00581880bf54a75a037</td>\n",
       "      <td>299.99</td>\n",
       "      <td>43.41</td>\n",
       "    </tr>\n",
       "  </tbody>\n",
       "</table>\n",
       "<p>7207 rows × 3 columns</p>\n",
       "</div>"
      ],
      "text/plain": [
       "                                order_id   price  freight_value\n",
       "7       000576fe39319847cbb9d288c5617fa6  810.00          70.75\n",
       "22      000f25f4d72195062c040b12dce9a18a  119.99          44.40\n",
       "39      0017afd5076e074a48f1f1a4c7bac9c5  809.10          44.29\n",
       "59      00254baeb6c932b0a8aeead91fbd02b5  149.90          43.11\n",
       "73      002b430ff89b3a24c31a1170acbbedea  199.99          65.56\n",
       "...                                  ...     ...            ...\n",
       "112613  ffebd80e3291e811c308365936897efd  129.90          51.20\n",
       "112634  fff8287bbae429a99bb7e8c21d151c41  180.00          48.14\n",
       "112635  fff8287bbae429a99bb7e8c21d151c41  180.00          48.14\n",
       "112637  fffa82886406ccf10c7b4e35c4ff2788  229.90          44.02\n",
       "112645  fffc94f6ce00a00581880bf54a75a037  299.99          43.41\n",
       "\n",
       "[7207 rows x 3 columns]"
      ]
     },
     "execution_count": 16,
     "metadata": {},
     "output_type": "execute_result"
    }
   ],
   "source": [
    "df_train"
   ]
  },
  {
   "cell_type": "code",
   "execution_count": 17,
   "id": "f31af6cc",
   "metadata": {},
   "outputs": [
    {
     "data": {
      "text/html": [
       "<div>\n",
       "<style scoped>\n",
       "    .dataframe tbody tr th:only-of-type {\n",
       "        vertical-align: middle;\n",
       "    }\n",
       "\n",
       "    .dataframe tbody tr th {\n",
       "        vertical-align: top;\n",
       "    }\n",
       "\n",
       "    .dataframe thead th {\n",
       "        text-align: right;\n",
       "    }\n",
       "</style>\n",
       "<table border=\"1\" class=\"dataframe\">\n",
       "  <thead>\n",
       "    <tr style=\"text-align: right;\">\n",
       "      <th></th>\n",
       "      <th>price</th>\n",
       "      <th>freight_value</th>\n",
       "    </tr>\n",
       "  </thead>\n",
       "  <tbody>\n",
       "    <tr>\n",
       "      <th>7</th>\n",
       "      <td>810.00</td>\n",
       "      <td>70.75</td>\n",
       "    </tr>\n",
       "    <tr>\n",
       "      <th>22</th>\n",
       "      <td>119.99</td>\n",
       "      <td>44.40</td>\n",
       "    </tr>\n",
       "    <tr>\n",
       "      <th>39</th>\n",
       "      <td>809.10</td>\n",
       "      <td>44.29</td>\n",
       "    </tr>\n",
       "    <tr>\n",
       "      <th>59</th>\n",
       "      <td>149.90</td>\n",
       "      <td>43.11</td>\n",
       "    </tr>\n",
       "    <tr>\n",
       "      <th>73</th>\n",
       "      <td>199.99</td>\n",
       "      <td>65.56</td>\n",
       "    </tr>\n",
       "    <tr>\n",
       "      <th>...</th>\n",
       "      <td>...</td>\n",
       "      <td>...</td>\n",
       "    </tr>\n",
       "    <tr>\n",
       "      <th>112613</th>\n",
       "      <td>129.90</td>\n",
       "      <td>51.20</td>\n",
       "    </tr>\n",
       "    <tr>\n",
       "      <th>112634</th>\n",
       "      <td>180.00</td>\n",
       "      <td>48.14</td>\n",
       "    </tr>\n",
       "    <tr>\n",
       "      <th>112635</th>\n",
       "      <td>180.00</td>\n",
       "      <td>48.14</td>\n",
       "    </tr>\n",
       "    <tr>\n",
       "      <th>112637</th>\n",
       "      <td>229.90</td>\n",
       "      <td>44.02</td>\n",
       "    </tr>\n",
       "    <tr>\n",
       "      <th>112645</th>\n",
       "      <td>299.99</td>\n",
       "      <td>43.41</td>\n",
       "    </tr>\n",
       "  </tbody>\n",
       "</table>\n",
       "<p>7207 rows × 2 columns</p>\n",
       "</div>"
      ],
      "text/plain": [
       "         price  freight_value\n",
       "7       810.00          70.75\n",
       "22      119.99          44.40\n",
       "39      809.10          44.29\n",
       "59      149.90          43.11\n",
       "73      199.99          65.56\n",
       "...        ...            ...\n",
       "112613  129.90          51.20\n",
       "112634  180.00          48.14\n",
       "112635  180.00          48.14\n",
       "112637  229.90          44.02\n",
       "112645  299.99          43.41\n",
       "\n",
       "[7207 rows x 2 columns]"
      ]
     },
     "execution_count": 17,
     "metadata": {},
     "output_type": "execute_result"
    }
   ],
   "source": [
    "df_train.iloc[:,1:]"
   ]
  },
  {
   "cell_type": "code",
   "execution_count": 18,
   "id": "d9f8cbef",
   "metadata": {},
   "outputs": [
    {
     "name": "stdout",
     "output_type": "stream",
     "text": [
      "[Total Run Time]: 7\n"
     ]
    }
   ],
   "source": [
    "start_loop = datetime.datetime.now()\n",
    "wcss = []\n",
    "for k in range(1,20):\n",
    "    kmeans = KMeans(n_clusters=k, init=\"k-means++\")\n",
    "    kmeans.fit(df_train.iloc[:,1:])\n",
    "    wcss.append(kmeans.inertia_)\n",
    "stop_loop = datetime.datetime.now()\n",
    "print(\"[Total Run Time]:\", (stop_loop - start_loop).seconds)"
   ]
  },
  {
   "cell_type": "code",
   "execution_count": 19,
   "id": "e07ad898",
   "metadata": {},
   "outputs": [
    {
     "data": {
      "image/png": "[encoded data removed]",
      "text/plain": [
       "<Figure size 864x432 with 1 Axes>"
      ]
     },
     "metadata": {
      "needs_background": "light"
     },
     "output_type": "display_data"
    }
   ],
   "source": [
    "plt.figure(figsize=(12,6))    \n",
    "plt.grid()\n",
    "plt.plot(range(1,20),wcss, linewidth=2, color=\"red\", marker =\"8\")\n",
    "plt.xlabel(\"K Value\")\n",
    "plt.xticks(np.arange(1,20,1))\n",
    "plt.ylabel(\"WCSS\")\n",
    "plt.show()"
   ]
  },
  {
   "cell_type": "code",
   "execution_count": 20,
   "id": "b5b787f5",
   "metadata": {},
   "outputs": [
    {
     "name": "stderr",
     "output_type": "stream",
     "text": [
      "C:\\Users\\mamad\\AppData\\Local\\Temp\\ipykernel_14356\\3228651075.py:3: SettingWithCopyWarning: \n",
      "A value is trying to be set on a copy of a slice from a DataFrame.\n",
      "Try using .loc[row_indexer,col_indexer] = value instead\n",
      "\n",
      "See the caveats in the documentation: https://pandas.pydata.org/pandas-docs/stable/user_guide/indexing.html#returning-a-view-versus-a-copy\n",
      "  df_train[\"label\"] = clusters\n"
     ]
    }
   ],
   "source": [
    "km = KMeans(n_clusters=5)\n",
    "clusters = km.fit_predict(df_train.iloc[:,1:])\n",
    "df_train[\"label\"] = clusters"
   ]
  },
  {
   "cell_type": "code",
   "execution_count": 21,
   "id": "f8b75224",
   "metadata": {},
   "outputs": [
    {
     "data": {
      "text/html": [
       "<div>\n",
       "<style scoped>\n",
       "    .dataframe tbody tr th:only-of-type {\n",
       "        vertical-align: middle;\n",
       "    }\n",
       "\n",
       "    .dataframe tbody tr th {\n",
       "        vertical-align: top;\n",
       "    }\n",
       "\n",
       "    .dataframe thead th {\n",
       "        text-align: right;\n",
       "    }\n",
       "</style>\n",
       "<table border=\"1\" class=\"dataframe\">\n",
       "  <thead>\n",
       "    <tr style=\"text-align: right;\">\n",
       "      <th></th>\n",
       "      <th>order_id</th>\n",
       "      <th>price</th>\n",
       "      <th>freight_value</th>\n",
       "      <th>label</th>\n",
       "    </tr>\n",
       "  </thead>\n",
       "  <tbody>\n",
       "    <tr>\n",
       "      <th>7</th>\n",
       "      <td>000576fe39319847cbb9d288c5617fa6</td>\n",
       "      <td>810.00</td>\n",
       "      <td>70.75</td>\n",
       "      <td>2</td>\n",
       "    </tr>\n",
       "    <tr>\n",
       "      <th>22</th>\n",
       "      <td>000f25f4d72195062c040b12dce9a18a</td>\n",
       "      <td>119.99</td>\n",
       "      <td>44.40</td>\n",
       "      <td>0</td>\n",
       "    </tr>\n",
       "    <tr>\n",
       "      <th>39</th>\n",
       "      <td>0017afd5076e074a48f1f1a4c7bac9c5</td>\n",
       "      <td>809.10</td>\n",
       "      <td>44.29</td>\n",
       "      <td>2</td>\n",
       "    </tr>\n",
       "    <tr>\n",
       "      <th>59</th>\n",
       "      <td>00254baeb6c932b0a8aeead91fbd02b5</td>\n",
       "      <td>149.90</td>\n",
       "      <td>43.11</td>\n",
       "      <td>0</td>\n",
       "    </tr>\n",
       "    <tr>\n",
       "      <th>73</th>\n",
       "      <td>002b430ff89b3a24c31a1170acbbedea</td>\n",
       "      <td>199.99</td>\n",
       "      <td>65.56</td>\n",
       "      <td>0</td>\n",
       "    </tr>\n",
       "    <tr>\n",
       "      <th>...</th>\n",
       "      <td>...</td>\n",
       "      <td>...</td>\n",
       "      <td>...</td>\n",
       "      <td>...</td>\n",
       "    </tr>\n",
       "    <tr>\n",
       "      <th>112613</th>\n",
       "      <td>ffebd80e3291e811c308365936897efd</td>\n",
       "      <td>129.90</td>\n",
       "      <td>51.20</td>\n",
       "      <td>0</td>\n",
       "    </tr>\n",
       "    <tr>\n",
       "      <th>112634</th>\n",
       "      <td>fff8287bbae429a99bb7e8c21d151c41</td>\n",
       "      <td>180.00</td>\n",
       "      <td>48.14</td>\n",
       "      <td>0</td>\n",
       "    </tr>\n",
       "    <tr>\n",
       "      <th>112635</th>\n",
       "      <td>fff8287bbae429a99bb7e8c21d151c41</td>\n",
       "      <td>180.00</td>\n",
       "      <td>48.14</td>\n",
       "      <td>0</td>\n",
       "    </tr>\n",
       "    <tr>\n",
       "      <th>112637</th>\n",
       "      <td>fffa82886406ccf10c7b4e35c4ff2788</td>\n",
       "      <td>229.90</td>\n",
       "      <td>44.02</td>\n",
       "      <td>0</td>\n",
       "    </tr>\n",
       "    <tr>\n",
       "      <th>112645</th>\n",
       "      <td>fffc94f6ce00a00581880bf54a75a037</td>\n",
       "      <td>299.99</td>\n",
       "      <td>43.41</td>\n",
       "      <td>0</td>\n",
       "    </tr>\n",
       "  </tbody>\n",
       "</table>\n",
       "<p>7207 rows × 4 columns</p>\n",
       "</div>"
      ],
      "text/plain": [
       "                                order_id   price  freight_value  label\n",
       "7       000576fe39319847cbb9d288c5617fa6  810.00          70.75      2\n",
       "22      000f25f4d72195062c040b12dce9a18a  119.99          44.40      0\n",
       "39      0017afd5076e074a48f1f1a4c7bac9c5  809.10          44.29      2\n",
       "59      00254baeb6c932b0a8aeead91fbd02b5  149.90          43.11      0\n",
       "73      002b430ff89b3a24c31a1170acbbedea  199.99          65.56      0\n",
       "...                                  ...     ...            ...    ...\n",
       "112613  ffebd80e3291e811c308365936897efd  129.90          51.20      0\n",
       "112634  fff8287bbae429a99bb7e8c21d151c41  180.00          48.14      0\n",
       "112635  fff8287bbae429a99bb7e8c21d151c41  180.00          48.14      0\n",
       "112637  fffa82886406ccf10c7b4e35c4ff2788  229.90          44.02      0\n",
       "112645  fffc94f6ce00a00581880bf54a75a037  299.99          43.41      0\n",
       "\n",
       "[7207 rows x 4 columns]"
      ]
     },
     "execution_count": 21,
     "metadata": {},
     "output_type": "execute_result"
    }
   ],
   "source": [
    "df_train"
   ]
  },
  {
   "cell_type": "code",
   "execution_count": 22,
   "id": "29f1fed0",
   "metadata": {},
   "outputs": [
    {
     "data": {
      "text/html": [
       "<div>\n",
       "<style scoped>\n",
       "    .dataframe tbody tr th:only-of-type {\n",
       "        vertical-align: middle;\n",
       "    }\n",
       "\n",
       "    .dataframe tbody tr th {\n",
       "        vertical-align: top;\n",
       "    }\n",
       "\n",
       "    .dataframe thead th {\n",
       "        text-align: right;\n",
       "    }\n",
       "</style>\n",
       "<table border=\"1\" class=\"dataframe\">\n",
       "  <thead>\n",
       "    <tr style=\"text-align: right;\">\n",
       "      <th></th>\n",
       "      <th>order_id</th>\n",
       "      <th>price</th>\n",
       "      <th>freight_value</th>\n",
       "    </tr>\n",
       "    <tr>\n",
       "      <th>label</th>\n",
       "      <th></th>\n",
       "      <th></th>\n",
       "      <th></th>\n",
       "    </tr>\n",
       "  </thead>\n",
       "  <tbody>\n",
       "    <tr>\n",
       "      <th>0</th>\n",
       "      <td>5275</td>\n",
       "      <td>5275</td>\n",
       "      <td>5275</td>\n",
       "    </tr>\n",
       "    <tr>\n",
       "      <th>1</th>\n",
       "      <td>433</td>\n",
       "      <td>433</td>\n",
       "      <td>433</td>\n",
       "    </tr>\n",
       "    <tr>\n",
       "      <th>2</th>\n",
       "      <td>1325</td>\n",
       "      <td>1325</td>\n",
       "      <td>1325</td>\n",
       "    </tr>\n",
       "    <tr>\n",
       "      <th>3</th>\n",
       "      <td>157</td>\n",
       "      <td>157</td>\n",
       "      <td>157</td>\n",
       "    </tr>\n",
       "    <tr>\n",
       "      <th>4</th>\n",
       "      <td>17</td>\n",
       "      <td>17</td>\n",
       "      <td>17</td>\n",
       "    </tr>\n",
       "  </tbody>\n",
       "</table>\n",
       "</div>"
      ],
      "text/plain": [
       "       order_id  price  freight_value\n",
       "label                                \n",
       "0          5275   5275           5275\n",
       "1           433    433            433\n",
       "2          1325   1325           1325\n",
       "3           157    157            157\n",
       "4            17     17             17"
      ]
     },
     "execution_count": 22,
     "metadata": {},
     "output_type": "execute_result"
    }
   ],
   "source": [
    "df_train.groupby('label').count()"
   ]
  },
  {
   "cell_type": "code",
   "execution_count": 23,
   "id": "386e75ca",
   "metadata": {},
   "outputs": [
    {
     "data": {
      "image/png": "[encoded data removed]",
      "text/plain": [
       "<Figure size 1440x720 with 1 Axes>"
      ]
     },
     "metadata": {
      "needs_background": "light"
     },
     "output_type": "display_data"
    }
   ],
   "source": [
    "fig = plt.figure(figsize=(20,10))\n",
    "ax = fig.add_subplot(111, projection='3d')\n",
    "ax.scatter(df_train.freight_value[df_train.label == 0], df_train.price[df_train.label == 0], c='blue', s=60)\n",
    "ax.scatter(df_train.freight_value[df_train.label == 1], df_train.price[df_train.label == 1], c='red', s=60)\n",
    "ax.scatter(df_train.freight_value[df_train.label == 2], df_train.price[df_train.label == 2], c='green', s=60)\n",
    "ax.scatter(df_train.freight_value[df_train.label == 3], df_train.price[df_train.label == 3], c='black', s=60)\n",
    "ax.scatter(df_train.freight_value[df_train.label == 4], df_train.price[df_train.label == 4], c='yellow', s=60)\n",
    "ax.view_init(30, 185)\n",
    "plt.xlabel(\"Freight Value\")\n",
    "plt.ylabel(\"Price\")\n",
    "plt.show()"
   ]
  },
  {
   "cell_type": "code",
   "execution_count": 24,
   "id": "3c17069c",
   "metadata": {},
   "outputs": [
    {
     "name": "stdout",
     "output_type": "stream",
     "text": [
      "[Total Run Time]: 205\n"
     ]
    }
   ],
   "source": [
    "start_loop = datetime.datetime.now()\n",
    "with warnings.catch_warnings():\n",
    "#     warnings.simplefilter(\"ignore\")\n",
    "    warnings.filterwarnings('error')\n",
    "    silhoutte_result = {}\n",
    "    \n",
    "    for n_clusters in range(2,50):\n",
    "        \n",
    "        try:\n",
    "            clusterer = KMeans(n_clusters=n_clusters)\n",
    "            preds = clusterer.fit_predict(df_train.iloc[:,1:4])\n",
    "            \n",
    "            centers = clusterer.cluster_centers_\n",
    "            \n",
    "            score = silhouette_score(df_train.iloc[:,1:4],preds)\n",
    "            \n",
    "            silhoutte_result.update({n_clusters: score})\n",
    "        except Warning:\n",
    "            print(\"[Convergence Warning] : \", n_clusters)\n",
    "            break\n",
    "stop_loop = datetime.datetime.now()\n",
    "print(\"[Total Run Time]:\", (stop_loop - start_loop).seconds)"
   ]
  },
  {
   "cell_type": "code",
   "execution_count": 25,
   "id": "b83b3506",
   "metadata": {},
   "outputs": [
    {
     "data": {
      "text/plain": [
       "2"
      ]
     },
     "execution_count": 25,
     "metadata": {},
     "output_type": "execute_result"
    }
   ],
   "source": [
    "max(silhoutte_result, key=silhoutte_result.get)"
   ]
  },
  {
   "cell_type": "code",
   "execution_count": 26,
   "id": "30bf680a",
   "metadata": {},
   "outputs": [
    {
     "name": "stderr",
     "output_type": "stream",
     "text": [
      "C:\\Users\\mamad\\AppData\\Local\\Temp\\ipykernel_14356\\1496418172.py:3: SettingWithCopyWarning: \n",
      "A value is trying to be set on a copy of a slice from a DataFrame.\n",
      "Try using .loc[row_indexer,col_indexer] = value instead\n",
      "\n",
      "See the caveats in the documentation: https://pandas.pydata.org/pandas-docs/stable/user_guide/indexing.html#returning-a-view-versus-a-copy\n",
      "  df_train[\"label_2\"] = clusters\n"
     ]
    }
   ],
   "source": [
    "km = KMeans(n_clusters=49)\n",
    "clusters = km.fit_predict(df_train.iloc[:,1:])\n",
    "df_train[\"label_2\"] = clusters"
   ]
  },
  {
   "cell_type": "code",
   "execution_count": 27,
   "id": "57381d2f",
   "metadata": {},
   "outputs": [
    {
     "data": {
      "text/html": [
       "<div>\n",
       "<style scoped>\n",
       "    .dataframe tbody tr th:only-of-type {\n",
       "        vertical-align: middle;\n",
       "    }\n",
       "\n",
       "    .dataframe tbody tr th {\n",
       "        vertical-align: top;\n",
       "    }\n",
       "\n",
       "    .dataframe thead th {\n",
       "        text-align: right;\n",
       "    }\n",
       "</style>\n",
       "<table border=\"1\" class=\"dataframe\">\n",
       "  <thead>\n",
       "    <tr style=\"text-align: right;\">\n",
       "      <th></th>\n",
       "      <th>order_id</th>\n",
       "      <th>price</th>\n",
       "      <th>freight_value</th>\n",
       "      <th>label</th>\n",
       "      <th>label_2</th>\n",
       "    </tr>\n",
       "  </thead>\n",
       "  <tbody>\n",
       "    <tr>\n",
       "      <th>7</th>\n",
       "      <td>000576fe39319847cbb9d288c5617fa6</td>\n",
       "      <td>810.00</td>\n",
       "      <td>70.75</td>\n",
       "      <td>2</td>\n",
       "      <td>10</td>\n",
       "    </tr>\n",
       "    <tr>\n",
       "      <th>22</th>\n",
       "      <td>000f25f4d72195062c040b12dce9a18a</td>\n",
       "      <td>119.99</td>\n",
       "      <td>44.40</td>\n",
       "      <td>0</td>\n",
       "      <td>38</td>\n",
       "    </tr>\n",
       "    <tr>\n",
       "      <th>39</th>\n",
       "      <td>0017afd5076e074a48f1f1a4c7bac9c5</td>\n",
       "      <td>809.10</td>\n",
       "      <td>44.29</td>\n",
       "      <td>2</td>\n",
       "      <td>10</td>\n",
       "    </tr>\n",
       "    <tr>\n",
       "      <th>59</th>\n",
       "      <td>00254baeb6c932b0a8aeead91fbd02b5</td>\n",
       "      <td>149.90</td>\n",
       "      <td>43.11</td>\n",
       "      <td>0</td>\n",
       "      <td>41</td>\n",
       "    </tr>\n",
       "    <tr>\n",
       "      <th>73</th>\n",
       "      <td>002b430ff89b3a24c31a1170acbbedea</td>\n",
       "      <td>199.99</td>\n",
       "      <td>65.56</td>\n",
       "      <td>0</td>\n",
       "      <td>37</td>\n",
       "    </tr>\n",
       "    <tr>\n",
       "      <th>...</th>\n",
       "      <td>...</td>\n",
       "      <td>...</td>\n",
       "      <td>...</td>\n",
       "      <td>...</td>\n",
       "      <td>...</td>\n",
       "    </tr>\n",
       "    <tr>\n",
       "      <th>112613</th>\n",
       "      <td>ffebd80e3291e811c308365936897efd</td>\n",
       "      <td>129.90</td>\n",
       "      <td>51.20</td>\n",
       "      <td>0</td>\n",
       "      <td>41</td>\n",
       "    </tr>\n",
       "    <tr>\n",
       "      <th>112634</th>\n",
       "      <td>fff8287bbae429a99bb7e8c21d151c41</td>\n",
       "      <td>180.00</td>\n",
       "      <td>48.14</td>\n",
       "      <td>0</td>\n",
       "      <td>37</td>\n",
       "    </tr>\n",
       "    <tr>\n",
       "      <th>112635</th>\n",
       "      <td>fff8287bbae429a99bb7e8c21d151c41</td>\n",
       "      <td>180.00</td>\n",
       "      <td>48.14</td>\n",
       "      <td>0</td>\n",
       "      <td>37</td>\n",
       "    </tr>\n",
       "    <tr>\n",
       "      <th>112637</th>\n",
       "      <td>fffa82886406ccf10c7b4e35c4ff2788</td>\n",
       "      <td>229.90</td>\n",
       "      <td>44.02</td>\n",
       "      <td>0</td>\n",
       "      <td>30</td>\n",
       "    </tr>\n",
       "    <tr>\n",
       "      <th>112645</th>\n",
       "      <td>fffc94f6ce00a00581880bf54a75a037</td>\n",
       "      <td>299.99</td>\n",
       "      <td>43.41</td>\n",
       "      <td>0</td>\n",
       "      <td>6</td>\n",
       "    </tr>\n",
       "  </tbody>\n",
       "</table>\n",
       "<p>7207 rows × 5 columns</p>\n",
       "</div>"
      ],
      "text/plain": [
       "                                order_id   price  freight_value  label  \\\n",
       "7       000576fe39319847cbb9d288c5617fa6  810.00          70.75      2   \n",
       "22      000f25f4d72195062c040b12dce9a18a  119.99          44.40      0   \n",
       "39      0017afd5076e074a48f1f1a4c7bac9c5  809.10          44.29      2   \n",
       "59      00254baeb6c932b0a8aeead91fbd02b5  149.90          43.11      0   \n",
       "73      002b430ff89b3a24c31a1170acbbedea  199.99          65.56      0   \n",
       "...                                  ...     ...            ...    ...   \n",
       "112613  ffebd80e3291e811c308365936897efd  129.90          51.20      0   \n",
       "112634  fff8287bbae429a99bb7e8c21d151c41  180.00          48.14      0   \n",
       "112635  fff8287bbae429a99bb7e8c21d151c41  180.00          48.14      0   \n",
       "112637  fffa82886406ccf10c7b4e35c4ff2788  229.90          44.02      0   \n",
       "112645  fffc94f6ce00a00581880bf54a75a037  299.99          43.41      0   \n",
       "\n",
       "        label_2  \n",
       "7            10  \n",
       "22           38  \n",
       "39           10  \n",
       "59           41  \n",
       "73           37  \n",
       "...         ...  \n",
       "112613       41  \n",
       "112634       37  \n",
       "112635       37  \n",
       "112637       30  \n",
       "112645        6  \n",
       "\n",
       "[7207 rows x 5 columns]"
      ]
     },
     "execution_count": 27,
     "metadata": {},
     "output_type": "execute_result"
    }
   ],
   "source": [
    "df_train"
   ]
  },
  {
   "cell_type": "code",
   "execution_count": null,
   "id": "71f17cfb",
   "metadata": {},
   "outputs": [],
   "source": []
  }
 ],
 "metadata": {
  "kernelspec": {
   "display_name": "Python 3 (ipykernel)",
   "language": "python",
   "name": "python3"
  },
  "language_info": {
   "codemirror_mode": {
    "name": "ipython",
    "version": 3
   },
   "file_extension": ".py",
   "mimetype": "text/x-python",
   "name": "python",
   "nbconvert_exporter": "python",
   "pygments_lexer": "ipython3",
   "version": "3.10.2"
  }
 },
 "nbformat": 4,
 "nbformat_minor": 5
}
